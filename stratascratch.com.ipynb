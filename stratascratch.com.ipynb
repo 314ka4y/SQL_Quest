{
 "cells": [
  {
   "cell_type": "markdown",
   "id": "2290880e",
   "metadata": {},
   "source": [
    "##### Salaries Differences\n",
    "Write a query that calculates the difference between the highest salaries found in the marketing and engineering departments. Output just the absolute difference in salaries."
   ]
  },
  {
   "cell_type": "code",
   "execution_count": 2,
   "id": "d71b3249",
   "metadata": {},
   "outputs": [
    {
     "ename": "IndentationError",
     "evalue": "unexpected indent (900552410.py, line 2)",
     "output_type": "error",
     "traceback": [
      "\u001b[0;36m  File \u001b[0;32m\"/var/folders/bg/b5dfn0gj1lz88k7ms283yrlm0000gn/T/ipykernel_20993/900552410.py\"\u001b[0;36m, line \u001b[0;32m2\u001b[0m\n\u001b[0;31m    ABS(MAX(CASE WHEN department = 'marketing' THEN salary ELSE null END) -\u001b[0m\n\u001b[0m    ^\u001b[0m\n\u001b[0;31mIndentationError\u001b[0m\u001b[0;31m:\u001b[0m unexpected indent\n"
     ]
    }
   ],
   "source": [
    "SELECT \n",
    "    ABS(MAX(CASE WHEN department = 'marketing' THEN salary ELSE null END) - \n",
    "        MAX(CASE WHEN department = 'engineering' THEN salary ELSE null END)) as salary_difference\n",
    "\n",
    "FROM db_employee\n",
    "JOIN db_dept ON db_employee.department_id = db_dept.id\n",
    "WHERE department = 'marketing' OR department = 'engineering';"
   ]
  },
  {
   "cell_type": "markdown",
   "id": "51ec85b3",
   "metadata": {},
   "source": [
    "###### Number Of Bathrooms And Bedrooms\n",
    "Find the average number of bathrooms and bedrooms for each city’s property types. Output the result along with the city name and the property type."
   ]
  },
  {
   "cell_type": "code",
   "execution_count": null,
   "id": "60832fad",
   "metadata": {},
   "outputs": [],
   "source": [
    "select city, property_type, AVG(bathrooms), AVG(bedrooms) \n",
    "from airbnb_search_details\n",
    "GROUP BY city, property_type;"
   ]
  },
  {
   "cell_type": "markdown",
   "id": "ccd1f89b",
   "metadata": {},
   "source": [
    "Find the total cost of each customer's orders. Output customer's id, first name, and the total order cost. Order records by customer's first name alphabetically."
   ]
  },
  {
   "cell_type": "code",
   "execution_count": null,
   "id": "b78a322b",
   "metadata": {},
   "outputs": [],
   "source": [
    "select first_name, last_name, total_order_cost \n",
    "from customers JOIN orders ON customers.id = orders.cust_id\n",
    "ORDER BY first_name;"
   ]
  },
  {
   "cell_type": "code",
   "execution_count": null,
   "id": "abf55e2c",
   "metadata": {},
   "outputs": [],
   "source": []
  },
  {
   "cell_type": "code",
   "execution_count": null,
   "id": "5a87aa96",
   "metadata": {},
   "outputs": [],
   "source": []
  },
  {
   "cell_type": "code",
   "execution_count": null,
   "id": "b8164a61",
   "metadata": {},
   "outputs": [],
   "source": []
  },
  {
   "cell_type": "code",
   "execution_count": null,
   "id": "3382dc72",
   "metadata": {},
   "outputs": [],
   "source": []
  }
 ],
 "metadata": {
  "kernelspec": {
   "display_name": "Python 3 (ipykernel)",
   "language": "python",
   "name": "python3"
  },
  "language_info": {
   "codemirror_mode": {
    "name": "ipython",
    "version": 3
   },
   "file_extension": ".py",
   "mimetype": "text/x-python",
   "name": "python",
   "nbconvert_exporter": "python",
   "pygments_lexer": "ipython3",
   "version": "3.8.12"
  }
 },
 "nbformat": 4,
 "nbformat_minor": 5
}
