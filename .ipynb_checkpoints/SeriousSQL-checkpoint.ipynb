{
 "cells": [
  {
   "cell_type": "markdown",
   "id": "b91c2062",
   "metadata": {},
   "source": [
    "## 1) Markdown practice"
   ]
  },
  {
   "cell_type": "markdown",
   "id": "ea06fa94",
   "metadata": {},
   "source": [
    "### 2.2.1. This is a level 3 heading\n",
    "\n",
    "There are also single and double hashtag titles for level 1 and 2 - but I wanted to keep my table of contents for this tutorial clean and tidy :)\n",
    "\n",
    "You can also type some text here.\n",
    "\n",
    "This is how you do something in **bold** or _italics_\n",
    "\n",
    "Then you can make a list of bullet points:\n",
    "\n",
    "* 1, 2, 3\n",
    "* A, B, C\n",
    "* what about an indented bullet?\n",
    "  + as easy as it gets!\n",
    "\n",
    "1. What if you want numbered lists?\n",
    "2. As easy as this!\n",
    "\n",
    "We can also add images using a few methods as long as the file is in the right path!\n",
    "\n",
    "<img alt=\"alternate text goes here\" src=\"lets-do-this.jpg\" width=\"60%\" />\n",
    "\n",
    "![You can add some alternate text here](doh.jpg)\n",
    "\n",
    "Finally - we can add code chunks like so to have SQL syntax highlighting turned on:\n",
    "\n",
    "```sql\n",
    "SELECT * FROM some_table\n",
    "```\n",
    "\n",
    "Or you can have code in-line like this `SELECT * FROM some_table` but the syntax highlighting won't on for these in-line code snippets.\n",
    "\n",
    "If you want to highlight something you can also use blockquotes:\n",
    "\n",
    "> Something you really want to emphasise\n",
    "\n",
    "You can also do page breaks using three underscores together like below to slightly separate sections of your document\n",
    "\n",
    "---\n",
    "\n",
    "Finally we can also include external links to websites like [https://www.google.com]"
   ]
  },
  {
   "cell_type": "markdown",
   "id": "73d19a5e",
   "metadata": {},
   "source": [
    "## 2) SELECT, ORDER BY practice"
   ]
  },
  {
   "cell_type": "markdown",
   "id": "9d9125d5",
   "metadata": {},
   "source": [
    "What is the name of the category with the highest category_id in the dvd_rentals.category table?"
   ]
  },
  {
   "cell_type": "code",
   "execution_count": null,
   "id": "4f32ec17",
   "metadata": {},
   "outputs": [],
   "source": [
    "SELECT\n",
    "name,\n",
    "category_id\n",
    "FROM dvd_rentals.category\n",
    "ORDER BY 2 DESC\n",
    "LIMIT 1;"
   ]
  },
  {
   "cell_type": "markdown",
   "id": "e3880188",
   "metadata": {},
   "source": [
    "For the films with the longest length, what is the title of the “R” rated film with the lowest replacement_cost in dvd_rentals.film table?"
   ]
  },
  {
   "cell_type": "code",
   "execution_count": null,
   "id": "ed997a93",
   "metadata": {},
   "outputs": [],
   "source": [
    "SELECT\n",
    "title,\n",
    "replacement_cost,\n",
    "length,\n",
    "rating\n",
    "FROM dvd_rentals.film\n",
    "ORDER BY 3 DESC,2\n",
    "LIMIT 10;"
   ]
  },
  {
   "cell_type": "markdown",
   "id": "91ccf00b",
   "metadata": {},
   "source": [
    "Who was the manager of the store with the highest total_sales in the dvd_rentals.sales_by_store table?"
   ]
  },
  {
   "cell_type": "code",
   "execution_count": null,
   "id": "2043aa6b",
   "metadata": {},
   "outputs": [],
   "source": [
    "SELECT\n",
    "manager,\n",
    "sales_by_store\n",
    "FROM dvd_rentals.sales_by_store\n",
    "ORDER BY 2 DESC\n",
    "LIMIT 1;"
   ]
  },
  {
   "cell_type": "markdown",
   "id": "b460e8d9",
   "metadata": {},
   "source": [
    "What is the postal_code of the city with the 5th highest city_id in the dvd_rentals.address table?"
   ]
  },
  {
   "cell_type": "code",
   "execution_count": null,
   "id": "12d37fd9",
   "metadata": {},
   "outputs": [],
   "source": [
    "SELECT\n",
    "postal_code,\n",
    "city_id\n",
    "FROM dvd_rentals.address\n",
    "ORDER BY 2 DESC\n",
    "LIMIT 5;"
   ]
  },
  {
   "cell_type": "markdown",
   "id": "169bddda",
   "metadata": {},
   "source": [
    "## 3) Record Counts & Distinct Values"
   ]
  },
  {
   "cell_type": "markdown",
   "id": "fdfa73de",
   "metadata": {},
   "source": [
    "Which actor_id has the most number of unique film_id records in the dvd_rentals.film_actor table?\n"
   ]
  },
  {
   "cell_type": "code",
   "execution_count": null,
   "id": "46a7ba8a",
   "metadata": {},
   "outputs": [],
   "source": [
    "SELECT\n",
    "  actor_id,\n",
    "  COUNT(*) AS frequency\n",
    "FROM dvd_rentals.film_actor\n",
    "GROUP BY actor_id\n",
    "ORDER BY frequency DESC\n",
    "LIMIT 5;"
   ]
  },
  {
   "cell_type": "markdown",
   "id": "1635f111",
   "metadata": {},
   "source": [
    "How many distinct fid values are there for the 3rd most common price value in the dvd_rentals.nicer_but_slower_film_list table?"
   ]
  },
  {
   "cell_type": "code",
   "execution_count": null,
   "id": "b721801e",
   "metadata": {},
   "outputs": [],
   "source": [
    "SELECT\n",
    "  price,\n",
    "  COUNT(DISTINCT(fid)) AS frequency\n",
    "FROM dvd_rentals.nicer_but_slower_film_list\n",
    "GROUP BY price\n",
    "ORDER BY frequency DESC\n",
    "LIMIT 5\n",
    "OFFSET 2;"
   ]
  },
  {
   "cell_type": "markdown",
   "id": "eae2ed23",
   "metadata": {},
   "source": [
    "How many unique country_id values exist in the dvd_rentals.city table?\n"
   ]
  },
  {
   "cell_type": "code",
   "execution_count": null,
   "id": "85e396b9",
   "metadata": {},
   "outputs": [],
   "source": [
    "SELECT\n",
    "  COUNT(DISTINCT(country_id)) AS unique_country_id\n",
    "FROM dvd_rentals.city\n",
    ";"
   ]
  },
  {
   "cell_type": "markdown",
   "id": "7a8a5bd7",
   "metadata": {},
   "source": [
    "What percentage of overall total_sales does the Sports category make up in the dvd_rentals.sales_by_film_category table?"
   ]
  },
  {
   "cell_type": "code",
   "execution_count": null,
   "id": "7405a00b",
   "metadata": {},
   "outputs": [],
   "source": [
    "SELECT \n",
    "category,\n",
    "ROUND(100*total_sales::numeric/SUM(total_sales) OVER (), 2) AS percentage\n",
    "FROM dvd_rentals.sales_by_film_category;"
   ]
  },
  {
   "cell_type": "markdown",
   "id": "dee65a23",
   "metadata": {},
   "source": [
    "What percentage of unique fid values are in the Children category in the dvd_rentals.film_list table?\n"
   ]
  },
  {
   "cell_type": "code",
   "execution_count": null,
   "id": "e239a476",
   "metadata": {},
   "outputs": [],
   "source": [
    "SELECT \n",
    "  category,\n",
    "  ROUND(100 * COUNT(DISTINCT fid)::NUMERIC/SUM(COUNT(fid)) OVER(), 2) AS percentage\n",
    "FROM dvd_rentals.film_list\n",
    "GROUP BY category;"
   ]
  },
  {
   "cell_type": "markdown",
   "id": "9f3984db",
   "metadata": {},
   "source": [
    "### 4) Identifying Duplicate Data\n"
   ]
  },
  {
   "cell_type": "markdown",
   "id": "adfcd73a",
   "metadata": {},
   "source": [
    "Which id value has the most number of duplicate records in the health.user_logs table?"
   ]
  },
  {
   "cell_type": "code",
   "execution_count": null,
   "id": "1968e750",
   "metadata": {},
   "outputs": [],
   "source": [
    "WITH Freq_count AS (\n",
    "SELECT \n",
    " id,\n",
    " log_date,\n",
    " measure,\n",
    " measure_value,\n",
    " systolic,\n",
    " diastolic,\n",
    " COUNT (*) AS freq\n",
    "FROM health.user_logs\n",
    "GROUP BY \n",
    " id,\n",
    " log_date,\n",
    " measure,\n",
    " measure_value,\n",
    " systolic,\n",
    " diastolic\n",
    ")\n",
    "SELECT \n",
    " id,\n",
    " SUM(freq) AS numer_of_dublicates\n",
    "FROM Freq_count\n",
    "WHERE freq > 1\n",
    "GROUP BY \n",
    " id\n",
    "ORDER BY numer_of_dublicates DESC\n",
    "LIMIT 10;"
   ]
  },
  {
   "cell_type": "markdown",
   "id": "077507bf",
   "metadata": {},
   "source": [
    "Which log_date value had the most duplicate records after removing the max duplicate id value from question 1?"
   ]
  },
  {
   "cell_type": "code",
   "execution_count": null,
   "id": "d0222d2d",
   "metadata": {},
   "outputs": [],
   "source": [
    "WITH Freq_count AS (\n",
    "SELECT \n",
    "    id,\n",
    "    log_date,\n",
    "    measure,\n",
    "    measure_value,\n",
    "    systolic,\n",
    "    diastolic,\n",
    "    COUNT (*) AS freq\n",
    "FROM health.user_logs\n",
    "WHERE id != '054250c692e07a9fa9e62e345231df4b54ff435d'\n",
    "GROUP BY \n",
    "    id,\n",
    "    log_date,\n",
    "    measure,\n",
    "    measure_value,\n",
    "    systolic,\n",
    "    diastolic\n",
    ")\n",
    "SELECT \n",
    "    log_date,\n",
    "    SUM(freq) AS numer_of_dublicates\n",
    "FROM Freq_count\n",
    "WHERE freq > 1\n",
    "GROUP BY \n",
    "    log_date\n",
    "ORDER BY numer_of_dublicates DESC\n",
    "LIMIT 10;"
   ]
  },
  {
   "cell_type": "markdown",
   "id": "d22a42b2",
   "metadata": {},
   "source": []
  },
  {
   "cell_type": "code",
   "execution_count": null,
   "id": "74cb75e7",
   "metadata": {},
   "outputs": [],
   "source": []
  },
  {
   "cell_type": "markdown",
   "id": "f9278057",
   "metadata": {},
   "source": []
  },
  {
   "cell_type": "code",
   "execution_count": null,
   "id": "3b9e4768",
   "metadata": {},
   "outputs": [],
   "source": []
  },
  {
   "cell_type": "code",
   "execution_count": null,
   "id": "d8f7bc65",
   "metadata": {},
   "outputs": [],
   "source": []
  },
  {
   "cell_type": "code",
   "execution_count": null,
   "id": "f5f8b74b",
   "metadata": {},
   "outputs": [],
   "source": []
  },
  {
   "cell_type": "code",
   "execution_count": null,
   "id": "28c0c996",
   "metadata": {},
   "outputs": [],
   "source": []
  },
  {
   "cell_type": "code",
   "execution_count": null,
   "id": "0755b9c0",
   "metadata": {},
   "outputs": [],
   "source": []
  },
  {
   "cell_type": "code",
   "execution_count": null,
   "id": "185dd0d1",
   "metadata": {},
   "outputs": [],
   "source": []
  },
  {
   "cell_type": "code",
   "execution_count": null,
   "id": "e1247b8d",
   "metadata": {},
   "outputs": [],
   "source": []
  }
 ],
 "metadata": {
  "kernelspec": {
   "display_name": "Python 3 (ipykernel)",
   "language": "python",
   "name": "python3"
  },
  "language_info": {
   "codemirror_mode": {
    "name": "ipython",
    "version": 3
   },
   "file_extension": ".py",
   "mimetype": "text/x-python",
   "name": "python",
   "nbconvert_exporter": "python",
   "pygments_lexer": "ipython3",
   "version": "3.8.12"
  }
 },
 "nbformat": 4,
 "nbformat_minor": 5
}
