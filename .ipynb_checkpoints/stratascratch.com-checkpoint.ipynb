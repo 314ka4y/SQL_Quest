{
 "cells": [
  {
   "cell_type": "markdown",
   "id": "81d4158d",
   "metadata": {},
   "source": [
    "Salaries Differences\n",
    "Write a query that calculates the difference between the highest salaries found in the marketing and engineering departments. Output just the absolute difference in salaries."
   ]
  },
  {
   "cell_type": "code",
   "execution_count": null,
   "id": "4891bc9d",
   "metadata": {},
   "outputs": [],
   "source": [
    "SELECT \n",
    "    ABS(MAX(CASE WHEN department = 'marketing' THEN salary ELSE null END) - \n",
    "        MAX(CASE WHEN department = 'engineering' THEN salary ELSE null END)) as salary_difference\n",
    "\n",
    "FROM db_employee\n",
    "JOIN db_dept ON db_employee.department_id = db_dept.id\n",
    "WHERE department = 'marketing' OR department = 'engineering';"
   ]
  },
  {
   "cell_type": "code",
   "execution_count": null,
   "id": "789a1b9b",
   "metadata": {},
   "outputs": [],
   "source": []
  }
 ],
 "metadata": {
  "kernelspec": {
   "display_name": "Python 3 (ipykernel)",
   "language": "python",
   "name": "python3"
  },
  "language_info": {
   "codemirror_mode": {
    "name": "ipython",
    "version": 3
   },
   "file_extension": ".py",
   "mimetype": "text/x-python",
   "name": "python",
   "nbconvert_exporter": "python",
   "pygments_lexer": "ipython3",
   "version": "3.8.12"
  }
 },
 "nbformat": 4,
 "nbformat_minor": 5
}
