{
 "cells": [
  {
   "cell_type": "markdown",
   "id": "72cceedc",
   "metadata": {},
   "source": [
    "#### This notebook is made with great respect to sqlzoo.net team, who help people to learn SQL"
   ]
  },
  {
   "cell_type": "markdown",
   "id": "f6823d43",
   "metadata": {},
   "source": [
    "### SELECT statement"
   ]
  },
  {
   "cell_type": "markdown",
   "id": "09d8961f",
   "metadata": {},
   "source": [
    "1.Bigger than Russia\n",
    "List each country name where the population is larger than that of 'Russia'."
   ]
  },
  {
   "cell_type": "code",
   "execution_count": null,
   "id": "b138100c",
   "metadata": {},
   "outputs": [],
   "source": [
    "SELECT name FROM world\n",
    "WHERE population > (SELECT population FROM world\n",
    "                    WHERE name='Russia')"
   ]
  },
  {
   "cell_type": "markdown",
   "id": "412a07f2",
   "metadata": {},
   "source": [
    "2.\n",
    "Show the countries in Europe with a per capita GDP greater than 'United Kingdom'."
   ]
  },
  {
   "cell_type": "code",
   "execution_count": null,
   "id": "ee7db3cf",
   "metadata": {},
   "outputs": [],
   "source": [
    "SELECT name\n",
    "FROM world\n",
    "WHERE continent = 'Europe' AND gdp/population > (SELECT gdp/population\n",
    "                                                FROM world \n",
    "                                                WHERE name = 'United Kingdom')"
   ]
  },
  {
   "cell_type": "markdown",
   "id": "5339f8b9",
   "metadata": {},
   "source": [
    "3. List the name and continent of countries in the continents containing either Argentina or Australia. Order by name of the country."
   ]
  },
  {
   "cell_type": "code",
   "execution_count": null,
   "id": "8180ea76",
   "metadata": {},
   "outputs": [],
   "source": [
    "SELECT name, continent\n",
    "FROM world\n",
    "WHERE continent IN (SELECT continent\n",
    "                    FROM world\n",
    "                    WHERE name = 'Argentina' OR name = 'Australia')\n",
    "ORDER BY name"
   ]
  },
  {
   "cell_type": "markdown",
   "id": "321f10e2",
   "metadata": {},
   "source": [
    "4. Which country has a population that is more than Canada but less than Poland? Show the name and the population.\n"
   ]
  },
  {
   "cell_type": "code",
   "execution_count": null,
   "id": "2779ec34",
   "metadata": {},
   "outputs": [],
   "source": [
    "SELECT name, population\n",
    "FROM world\n",
    "WHERE population >  (SELECT population\n",
    "                    FROM world\n",
    "                    WHERE name = 'Canada')\n",
    "AND population < (SELECT population\n",
    "                  FROM world\n",
    "                  WHERE name = 'Poland')"
   ]
  },
  {
   "cell_type": "markdown",
   "id": "e0941ea1",
   "metadata": {},
   "source": [
    "5.Germany (population 80 million) has the largest population of the countries in Europe. Austria (population 8.5 million) has 11% of the population of Germany.\n",
    "\n",
    "Show the name and the population of each country in Europe. Show the population as a percentage of the population of Germany."
   ]
  },
  {
   "cell_type": "code",
   "execution_count": null,
   "id": "5b70de48",
   "metadata": {},
   "outputs": [],
   "source": [
    "SELECT name, CONCAT(ROUND(100*population/(SELECT population \n",
    "                             FROM world\n",
    "                             WHERE name ='Germany')), '%') as percentage\n",
    "FROM world\n",
    "WHERE continent = 'EUROPE'"
   ]
  },
  {
   "cell_type": "markdown",
   "id": "0bfa2b81",
   "metadata": {},
   "source": [
    "6.\n",
    "Which countries have a GDP greater than every country in Europe? [Give the name only.] (Some countries may have NULL gdp values)"
   ]
  },
  {
   "cell_type": "code",
   "execution_count": null,
   "id": "65455e40",
   "metadata": {},
   "outputs": [],
   "source": [
    "SELECT name\n",
    "FROM world\n",
    "WHERE gdp > ALL (SELECT gdp\n",
    "                 FROM world\n",
    "                 WHERE continent = 'Europe' AND gdp > 0)"
   ]
  },
  {
   "cell_type": "markdown",
   "id": "9c559d0c",
   "metadata": {},
   "source": [
    "7.\n",
    "Find the largest country (by area) in each continent, show the continent, the name and the area:"
   ]
  },
  {
   "cell_type": "code",
   "execution_count": null,
   "id": "a79ad133",
   "metadata": {},
   "outputs": [],
   "source": [
    "SELECT continent, name, area FROM world x\n",
    "WHERE area >= ALL\n",
    "    (SELECT area \n",
    "     FROM world y\n",
    "     WHERE y.continent=x.continent AND population>0)"
   ]
  },
  {
   "cell_type": "markdown",
   "id": "a91ba0f0",
   "metadata": {},
   "source": [
    "8.\n",
    "List each continent and the name of the country that comes first alphabetically."
   ]
  },
  {
   "cell_type": "code",
   "execution_count": null,
   "id": "8afa75cc",
   "metadata": {},
   "outputs": [],
   "source": [
    "SELECT continent, name\n",
    "FROM world x\n",
    "WHERE name <= ALL\n",
    "    (SELECT name FROM world y\n",
    "    WHERE y.continent=x.continent\n",
    "    AND population>0)"
   ]
  },
  {
   "cell_type": "markdown",
   "id": "2bcad6d1",
   "metadata": {},
   "source": [
    "9.\n",
    "Find the continents where all countries have a population <= 25000000. Then find the names of the countries associated with these continents. Show name, continent and population."
   ]
  },
  {
   "cell_type": "code",
   "execution_count": null,
   "id": "af7f3abb",
   "metadata": {},
   "outputs": [],
   "source": [
    "SELECT  name, continent, population\n",
    "FROM world x\n",
    "WHERE 25000000 > ALL\n",
    "(SELECT population\n",
    "FROM world y\n",
    "WHERE x.continent = y.continent AND population >0)"
   ]
  },
  {
   "cell_type": "markdown",
   "id": "861e21ac",
   "metadata": {},
   "source": [
    "10.\n",
    "Some countries have populations more than three times that of all of their neighbours (in the same continent). Give the countries and continents."
   ]
  },
  {
   "cell_type": "code",
   "execution_count": null,
   "id": "f8e0f8ad",
   "metadata": {},
   "outputs": [],
   "source": [
    "SELECT name, continent\n",
    "FROM world x\n",
    "WHERE population > ALL\n",
    "    (SELECT 3*population\n",
    "    FROM world y\n",
    "    WHERE x.continent = y.continent AND population >0 AND y.name != x.name)\n",
    "\n"
   ]
  },
  {
   "cell_type": "markdown",
   "id": "57fb8cde",
   "metadata": {},
   "source": [
    "### JOIN Statements"
   ]
  },
  {
   "cell_type": "markdown",
   "id": "fae1cd0b",
   "metadata": {},
   "source": [
    "\n",
    "The first example shows the goal scored by a player with the last name 'Bender'. The * says to list all the columns in the table - a shorter way of saying matchid, teamid, player, gtime\n",
    "Modify it to show the matchid and player name for all goals scored by Germany. To identify German players, check for: teamid = 'GER'"
   ]
  },
  {
   "cell_type": "code",
   "execution_count": 1,
   "id": "aeef7c62",
   "metadata": {},
   "outputs": [
    {
     "ename": "SyntaxError",
     "evalue": "invalid syntax (3435229840.py, line 1)",
     "output_type": "error",
     "traceback": [
      "\u001b[0;36m  File \u001b[0;32m\"/var/folders/bg/b5dfn0gj1lz88k7ms283yrlm0000gn/T/ipykernel_30574/3435229840.py\"\u001b[0;36m, line \u001b[0;32m1\u001b[0m\n\u001b[0;31m    SELECT matchid, player\u001b[0m\n\u001b[0m           ^\u001b[0m\n\u001b[0;31mSyntaxError\u001b[0m\u001b[0;31m:\u001b[0m invalid syntax\n"
     ]
    }
   ],
   "source": [
    "SELECT matchid, player  \n",
    "FROM goal \n",
    "WHERE teamid = 'GER'"
   ]
  },
  {
   "cell_type": "markdown",
   "id": "33cb4bc0",
   "metadata": {},
   "source": [
    "2.\n",
    "From the previous query you can see that Lars Bender's scored a goal in game 1012. Now we want to know what teams were playing in that match.\n",
    "Notice in the that the column matchid in the goal table corresponds to the id column in the game table. We can look up information about game 1012 by finding that row in the game table.\n",
    "Show id, stadium, team1, team2 for just game 1012"
   ]
  },
  {
   "cell_type": "code",
   "execution_count": null,
   "id": "3d59faf3",
   "metadata": {},
   "outputs": [],
   "source": [
    "SELECT id,stadium,team1,team2\n",
    "  FROM game \n",
    "WHERE id = 1012"
   ]
  },
  {
   "cell_type": "markdown",
   "id": "c36a2fd4",
   "metadata": {},
   "source": [
    "\n",
    "3 You can combine the two steps into a single query with a JOIN.\n",
    "\n",
    "SELECT *\n",
    "  FROM game JOIN goal ON (id=matchid)\n",
    "The FROM clause says to merge data from the goal table with that from the game table. The ON says how to figure out which rows in game go with which rows in goal - the matchid from goal must match id from game. (If we wanted to be more clear/specific we could say\n",
    "ON (game.id=goal.matchid)\n",
    "\n",
    "The code below shows the player (from the goal) and stadium name (from the game table) for every goal scored.\n",
    "\n",
    "Modify it to show the player, teamid, stadium and mdate for every German goal.\n"
   ]
  },
  {
   "cell_type": "code",
   "execution_count": null,
   "id": "81151e97",
   "metadata": {},
   "outputs": [],
   "source": [
    "SELECT player,teamid, stadium, mdate\n",
    "  FROM game JOIN goal ON (id=matchid)\n",
    "WHERE teamid = 'GER'"
   ]
  },
  {
   "cell_type": "markdown",
   "id": "c71c85d7",
   "metadata": {},
   "source": [
    "4. Use the same JOIN as in the previous question.\n",
    "\n",
    "Show the team1, team2 and player for every goal scored by a player called Mario player LIKE 'Mario%'"
   ]
  },
  {
   "cell_type": "code",
   "execution_count": null,
   "id": "1b59aeab",
   "metadata": {},
   "outputs": [],
   "source": [
    "SELECT team1, team2, player\n",
    "FROM game JOIN goal ON (id = matchid)\n",
    "WHERE player LIKE 'Mario%'"
   ]
  },
  {
   "cell_type": "markdown",
   "id": "ef2f4ce9",
   "metadata": {},
   "source": [
    "5. The table eteam gives details of every national team including the coach. You can JOIN goal to eteam using the phrase goal JOIN eteam on teamid=id\n",
    "Show player, teamid, coach, gtime for all goals scored in the first 10 minutes gtime<=10"
   ]
  },
  {
   "cell_type": "code",
   "execution_count": null,
   "id": "b99f95de",
   "metadata": {},
   "outputs": [],
   "source": [
    "SELECT player, teamid, coach, gtime\n",
    "FROM goal JOIN eteam ON (teamid=id)\n",
    "WHERE goal.gtime<=10\n"
   ]
  },
  {
   "cell_type": "markdown",
   "id": "3c1bf399",
   "metadata": {},
   "source": [
    "6. To JOIN game with eteam you could use either\n",
    "game JOIN eteam ON (team1=eteam.id) or game JOIN eteam ON (team2=eteam.id)\n",
    "\n",
    "Notice that because id is a column name in both game and eteam you must specify eteam.id instead of just id\n",
    "\n",
    "List the dates of the matches and the name of the team in which 'Fernando Santos' was the team1 coach."
   ]
  },
  {
   "cell_type": "code",
   "execution_count": null,
   "id": "f2f12217",
   "metadata": {},
   "outputs": [],
   "source": [
    "SELECT mdate, teamname\n",
    "FROM game JOIN eteam ON (team1 = eteam.id)\n",
    "WHERE eteam.coach = 'Fernando Santos' "
   ]
  },
  {
   "cell_type": "markdown",
   "id": "53c33b1e",
   "metadata": {},
   "source": [
    "7. List the player for every goal scored in a game where the stadium was 'National Stadium, Warsaw'\n"
   ]
  },
  {
   "cell_type": "code",
   "execution_count": null,
   "id": "5c02f67d",
   "metadata": {},
   "outputs": [],
   "source": [
    "SELECT player\n",
    "FROM goal JOIN game ON (id = matchid)\n",
    "WHERE stadium = 'National Stadium, Warsaw'"
   ]
  },
  {
   "cell_type": "markdown",
   "id": "74ca64f9",
   "metadata": {},
   "source": [
    "8. The example query shows all goals scored in the Germany-Greece quarterfinal.\n",
    "Instead show the name of all players who scored a goal against Germany."
   ]
  },
  {
   "cell_type": "code",
   "execution_count": null,
   "id": "b1deb552",
   "metadata": {},
   "outputs": [],
   "source": [
    "SELECT DISTINCT(player)\n",
    "FROM game JOIN goal ON matchid = id \n",
    "WHERE (team1 = 'GER' OR team2='GER') AND teamid <> 'GER' "
   ]
  },
  {
   "cell_type": "markdown",
   "id": "79dc435b",
   "metadata": {},
   "source": [
    "9. Show teamname and the total number of goals scored."
   ]
  },
  {
   "cell_type": "code",
   "execution_count": null,
   "id": "b3cb66cc",
   "metadata": {},
   "outputs": [],
   "source": [
    "COUNT and GROUP BY\n",
    "SELECT teamname, COUNT(player)\n",
    "  FROM eteam JOIN goal ON id=teamid\n",
    "GROUP BY teamname"
   ]
  },
  {
   "cell_type": "markdown",
   "id": "83199e8a",
   "metadata": {},
   "source": [
    "10. Show the stadium and the number of goals scored in each stadium.\n"
   ]
  },
  {
   "cell_type": "code",
   "execution_count": null,
   "id": "62e979eb",
   "metadata": {},
   "outputs": [],
   "source": [
    "SELECT stadium, COUNT(player)\n",
    "  FROM game JOIN goal ON id=matchid\n",
    "GROUP BY stadium"
   ]
  },
  {
   "cell_type": "markdown",
   "id": "1e4104b2",
   "metadata": {},
   "source": [
    "11 . For every match involving 'POL', show the matchid, date and the number of goals scored."
   ]
  },
  {
   "cell_type": "code",
   "execution_count": 4,
   "id": "ebd78a47",
   "metadata": {},
   "outputs": [
    {
     "ename": "SyntaxError",
     "evalue": "invalid syntax (442417754.py, line 1)",
     "output_type": "error",
     "traceback": [
      "\u001b[0;36m  File \u001b[0;32m\"/var/folders/bg/b5dfn0gj1lz88k7ms283yrlm0000gn/T/ipykernel_30574/442417754.py\"\u001b[0;36m, line \u001b[0;32m1\u001b[0m\n\u001b[0;31m    SELECT matchid, mdate, COUNT(teamid)\u001b[0m\n\u001b[0m           ^\u001b[0m\n\u001b[0;31mSyntaxError\u001b[0m\u001b[0;31m:\u001b[0m invalid syntax\n"
     ]
    }
   ],
   "source": [
    "SELECT matchid, mdate, COUNT(teamid)\n",
    "FROM game JOIN goal ON matchid = id \n",
    "WHERE (team1 = 'POL' OR team2 = 'POL')\n",
    "GROUP BY matchid, mdate"
   ]
  },
  {
   "cell_type": "markdown",
   "id": "b3f1712d",
   "metadata": {},
   "source": [
    "12. For every match where 'GER' scored, show matchid, match date and the number of goals scored by 'GER'"
   ]
  },
  {
   "cell_type": "code",
   "execution_count": null,
   "id": "1c2157ba",
   "metadata": {},
   "outputs": [],
   "source": [
    "SELECT matchid, mdate, COUNT(player)\n",
    "FROM game JOIN goal ON matchid = id \n",
    "WHERE (team1 = 'GER' OR team2 = 'GER') AND (teamid = 'GER')\n",
    "GROUP BY matchid, mdate"
   ]
  },
  {
   "cell_type": "markdown",
   "id": "b821f821",
   "metadata": {},
   "source": [
    "13.List every match with the goals scored by each team as shown. This will use \"CASE WHEN\" which has not been explained in any previous exercises.\n",
    "mdate\tteam1\tscore1\tteam2\tscore2\n",
    "1 July 2012\tESP\t4\tITA\t0\n",
    "10 June 2012\tESP\t1\tITA\t1\n",
    "10 June 2012\tIRL\t1\tCRO\t3\n",
    "...\n",
    "Notice in the query given every goal is listed. If it was a team1 goal then a 1 appears in score1, otherwise there is a 0. You could SUM this column to get a count of the goals scored by team1. Sort your result by mdate, matchid, team1 and team2.\n"
   ]
  },
  {
   "cell_type": "code",
   "execution_count": null,
   "id": "1061601f",
   "metadata": {},
   "outputs": [],
   "source": [
    "SELECT mdate, \n",
    "team1, SUM(CASE WHEN teamid=team1 THEN 1 ELSE 0 END) AS score1,\n",
    "team2, SUM(CASE WHEN teamid=team2 THEN 1 ELSE 0 END) AS score2\n",
    "FROM game JOIN goal ON matchid = id\n",
    "GROUP BY matchid, mdate, team1, team2\n",
    "ORDER BY mdate, matchid, team1 , team2"
   ]
  },
  {
   "cell_type": "markdown",
   "id": "446c59e2",
   "metadata": {},
   "source": [
    "### More JOIN operations"
   ]
  },
  {
   "cell_type": "markdown",
   "id": "57a9976d",
   "metadata": {},
   "source": [
    "1. List the films where the yr is 1962 [Show id, title]\n"
   ]
  },
  {
   "cell_type": "code",
   "execution_count": null,
   "id": "5892a38d",
   "metadata": {},
   "outputs": [],
   "source": [
    "SELECT id, title\n",
    "FROM movie\n",
    "WHERE yr=1962"
   ]
  },
  {
   "cell_type": "markdown",
   "id": "e8d478cc",
   "metadata": {},
   "source": [
    "When was Citizen Kane released?\n",
    "\n",
    "2. Give year of 'Citizen Kane'."
   ]
  },
  {
   "cell_type": "code",
   "execution_count": null,
   "id": "d0d3be6f",
   "metadata": {},
   "outputs": [],
   "source": [
    "SELECT yr\n",
    "FROM movie\n",
    "WHERE title = 'Citizen Kane'"
   ]
  },
  {
   "cell_type": "markdown",
   "id": "2a280659",
   "metadata": {},
   "source": [
    "Star Trek movies\n",
    "\n",
    "3. List all of the Star Trek movies, include the id, title and yr (all of these movies include the words Star Trek in the title). Order results by year.\n"
   ]
  },
  {
   "cell_type": "code",
   "execution_count": null,
   "id": "8fe56924",
   "metadata": {},
   "outputs": [],
   "source": [
    "SELECT id, title, yr\n",
    "FROM movie\n",
    "WHERE title LIKE '%Star Trek%'\n",
    "ORDER BY yr"
   ]
  },
  {
   "cell_type": "markdown",
   "id": "8712dd72",
   "metadata": {},
   "source": [
    "4. What id number does the actor 'Glenn Close' have?"
   ]
  },
  {
   "cell_type": "code",
   "execution_count": null,
   "id": "3a2493af",
   "metadata": {},
   "outputs": [],
   "source": [
    "SELECT id\n",
    "FROM actor\n",
    "WHERE name = 'Glenn Close' "
   ]
  },
  {
   "cell_type": "markdown",
   "id": "46c3dfd8",
   "metadata": {},
   "source": [
    "5. What is the id of the film 'Casablanca'\n"
   ]
  },
  {
   "cell_type": "code",
   "execution_count": null,
   "id": "e82b339a",
   "metadata": {},
   "outputs": [],
   "source": [
    "SELECT id\n",
    "FROM movie\n",
    "WHERE title = 'Casablanca'"
   ]
  },
  {
   "cell_type": "markdown",
   "id": "7ff1d9e3",
   "metadata": {},
   "source": [
    "6.\n",
    "Obtain the cast list for 'Casablanca'"
   ]
  },
  {
   "cell_type": "code",
   "execution_count": null,
   "id": "c8314598",
   "metadata": {},
   "outputs": [],
   "source": [
    "SELECT name\n",
    "FROM actor \n",
    "JOIN casting ON (actor.id = casting.actorid)\n",
    "JOIN movie ON (casting.movieid = movie.id)\n",
    "WHERE title = 'Casablanca'"
   ]
  },
  {
   "cell_type": "markdown",
   "id": "ce46ee99",
   "metadata": {},
   "source": [
    "7.\n",
    "Obtain the cast list for the film 'Alien'"
   ]
  },
  {
   "cell_type": "code",
   "execution_count": null,
   "id": "059418a5",
   "metadata": {},
   "outputs": [],
   "source": [
    "SELECT name\n",
    "FROM actor \n",
    "JOIN casting ON (actor.id = casting.actorid)\n",
    "JOIN movie ON (casting.movieid = movie.id)\n",
    "WHERE title = 'Alien'"
   ]
  },
  {
   "cell_type": "markdown",
   "id": "504bb6d3",
   "metadata": {},
   "source": [
    "8. List the films in which 'Harrison Ford' has appeared"
   ]
  },
  {
   "cell_type": "code",
   "execution_count": null,
   "id": "e714e31e",
   "metadata": {},
   "outputs": [],
   "source": [
    "SELECT title\n",
    "FROM movie \n",
    "JOIN casting ON (movie.id = casting.movieid)\n",
    "JOIN actor ON (casting.actorid = actor.id)\n",
    "WHERE actor.name =  'Harrison Ford'"
   ]
  },
  {
   "cell_type": "markdown",
   "id": "2a3cf8bc",
   "metadata": {},
   "source": [
    "9.\n",
    "List the films where 'Harrison Ford' has appeared - but not in the starring role. [Note: the ord field of casting gives the position of the actor. If ord=1 then this actor is in the starring role]"
   ]
  },
  {
   "cell_type": "code",
   "execution_count": null,
   "id": "00e1a387",
   "metadata": {},
   "outputs": [],
   "source": [
    "SELECT title\n",
    "FROM movie \n",
    "JOIN casting ON (movie.id = casting.movieid)\n",
    "JOIN actor ON (casting.actorid = actor.id)\n",
    "WHERE actor.name =  'Harrison Ford' AND casting.ord != 1"
   ]
  },
  {
   "cell_type": "markdown",
   "id": "9558e1c2",
   "metadata": {},
   "source": [
    "10. List the films together with the leading star for all 1962 films.\n"
   ]
  },
  {
   "cell_type": "code",
   "execution_count": null,
   "id": "29553114",
   "metadata": {},
   "outputs": [],
   "source": [
    "SELECT title, actor.name\n",
    "FROM movie \n",
    "JOIN casting ON (movie.id = casting.movieid)\n",
    "JOIN actor ON (casting.actorid = actor.id)\n",
    "WHERE movie.yr =  1962 AND casting.ord = 1"
   ]
  },
  {
   "cell_type": "markdown",
   "id": "b911b95e",
   "metadata": {},
   "source": [
    "11.\n",
    "Which were the busiest years for 'Rock Hudson', show the year and the number of movies he made each year for any year in which he made more than 2 movies.\n",
    "\n"
   ]
  },
  {
   "cell_type": "code",
   "execution_count": null,
   "id": "5033461b",
   "metadata": {},
   "outputs": [],
   "source": [
    "SELECT yr,COUNT(title) \n",
    "FROM movie JOIN casting ON movie.id=movieid\n",
    "           JOIN actor   ON actorid=actor.id\n",
    "WHERE name='Rock Hudson'\n",
    "GROUP BY yr\n",
    "HAVING COUNT(title) > 2\n",
    "ORDER BY 2 DESC"
   ]
  },
  {
   "cell_type": "markdown",
   "id": "5525f8a9",
   "metadata": {},
   "source": [
    "12.\n",
    "List the film title and the leading actor for all of the films 'Julie Andrews' played in."
   ]
  },
  {
   "cell_type": "code",
   "execution_count": null,
   "id": "716d9752",
   "metadata": {},
   "outputs": [],
   "source": [
    "SELECT title, name\n",
    "FROM movie \n",
    "JOIN casting ON (id = movieid)\n",
    "JOIN actor ON (casting.actorid = actor.id)\n",
    "WHERE movieid IN (SELECT movieid \n",
    "                  FROM casting\n",
    "                  JOIN actor ON (casting.actorid = actor.id)\n",
    "                  WHERE  actor.name ='Julie Andrews') \n",
    "AND casting.ord = 1\n"
   ]
  },
  {
   "cell_type": "markdown",
   "id": "f58b017f",
   "metadata": {},
   "source": [
    "13.\n",
    "Obtain a list, in alphabetical order, of actors who've had at least 15 starring roles."
   ]
  },
  {
   "cell_type": "code",
   "execution_count": null,
   "id": "124f5e2d",
   "metadata": {},
   "outputs": [],
   "source": [
    "SELECT name\n",
    "FROM actor\n",
    "JOIN casting ON (casting.actorid = actor.id)\n",
    "WHERE casting.actorid IN (SELECT actorid\n",
    "                          FROM casting\n",
    "                          WHERE ord = 1\n",
    "                          GROUP BY actorid\n",
    "                          HAVING COUNT(actorid) >= 15)\n",
    "GROUP BY name\n",
    "ORDER BY name"
   ]
  },
  {
   "cell_type": "markdown",
   "id": "48367a4b",
   "metadata": {},
   "source": [
    "14. List the films released in the year 1978 ordered by the number of actors in the cast, then by title."
   ]
  },
  {
   "cell_type": "code",
   "execution_count": null,
   "id": "9a909740",
   "metadata": {},
   "outputs": [],
   "source": [
    "SELECT title, COUNT(casting.ord)\n",
    "FROM movie \n",
    "JOIN casting ON (id = movieid)\n",
    "JOIN actor ON (casting.actorid = actor.id)\n",
    "WHERE yr = 1978\n",
    "GROUP BY title\n",
    "ORDER BY 2 DESC, title"
   ]
  },
  {
   "cell_type": "markdown",
   "id": "a76975c7",
   "metadata": {},
   "source": [
    "\n",
    "15.\n",
    "List all the people who have worked with 'Art Garfunkel'."
   ]
  },
  {
   "cell_type": "code",
   "execution_count": null,
   "id": "6baa11a6",
   "metadata": {},
   "outputs": [],
   "source": [
    "SELECT DISTINCT(name)\n",
    "FROM actor\n",
    "JOIN casting ON (casting.actorid = actor.id)\n",
    "WHERE movieid IN (SELECT movieid\n",
    "                  FROM casting\n",
    "                  JOIN actor ON (casting.actorid = actor.id)\n",
    "                  WHERE actor.name = 'Art Garfunkel') \n",
    "AND name != 'Art Garfunkel'"
   ]
  },
  {
   "cell_type": "markdown",
   "id": "303a94d4",
   "metadata": {},
   "source": [
    "### Using Null, NULL, INNER JOIN, LEFT JOIN, RIGHT JOIN\n"
   ]
  },
  {
   "cell_type": "markdown",
   "id": "3ecbca58",
   "metadata": {},
   "source": [
    "1.\n",
    "List the teachers who have NULL for their department."
   ]
  },
  {
   "cell_type": "code",
   "execution_count": null,
   "id": "22bd9bce",
   "metadata": {},
   "outputs": [],
   "source": [
    "SELECT name\n",
    "FROM teacher\n",
    "WHERE dept IS NULL"
   ]
  },
  {
   "cell_type": "markdown",
   "id": "8d362520",
   "metadata": {},
   "source": [
    "2.\n",
    "Note the INNER JOIN misses the teachers with no department and the departments with no teacher."
   ]
  },
  {
   "cell_type": "code",
   "execution_count": null,
   "id": "13eee536",
   "metadata": {},
   "outputs": [],
   "source": [
    "SELECT teacher.name, dept.name\n",
    "FROM teacher INNER JOIN dept\n",
    "             ON (teacher.dept=dept.id)"
   ]
  },
  {
   "cell_type": "markdown",
   "id": "f60ae8a0",
   "metadata": {},
   "source": [
    "3.\n",
    "Use a different JOIN so that all teachers are listed."
   ]
  },
  {
   "cell_type": "code",
   "execution_count": null,
   "id": "1bb7dee4",
   "metadata": {},
   "outputs": [],
   "source": [
    "SELECT teacher.name, dept.name\n",
    "FROM teacher LEFT JOIN dept\n",
    "             ON (teacher.dept=dept.id)"
   ]
  },
  {
   "cell_type": "markdown",
   "id": "9c9ae069",
   "metadata": {},
   "source": [
    "4.\n",
    "Use a different JOIN so that all departments are listed.\n"
   ]
  },
  {
   "cell_type": "code",
   "execution_count": null,
   "id": "ed445713",
   "metadata": {},
   "outputs": [],
   "source": [
    "SELECT teacher.name, dept.name\n",
    "FROM teacher RIGHT JOIN dept\n",
    "             ON (teacher.dept=dept.id)"
   ]
  },
  {
   "cell_type": "markdown",
   "id": "25964cdf",
   "metadata": {},
   "source": [
    "\n",
    "5.\n",
    "Use COALESCE to print the mobile number. Use the number '07986 444 2266' if there is no number given. Show teacher name and mobile number or '07986 444 2266'"
   ]
  },
  {
   "cell_type": "code",
   "execution_count": null,
   "id": "c05913d6",
   "metadata": {},
   "outputs": [],
   "source": [
    "SELECT name, COALESCE(mobile, '07986 444 2266')\n",
    "FROM teacher "
   ]
  },
  {
   "cell_type": "markdown",
   "id": "19a3859f",
   "metadata": {},
   "source": [
    "6.\n",
    "Use the COALESCE function and a LEFT JOIN to print the teacher name and department name. Use the string 'None' where there is no department.\n"
   ]
  },
  {
   "cell_type": "code",
   "execution_count": null,
   "id": "570b694e",
   "metadata": {},
   "outputs": [],
   "source": [
    "SELECT teacher.name, COALESCE(dept.name, 'None')\n",
    "FROM teacher LEFT JOIN dept ON teacher. dept = dept.id"
   ]
  },
  {
   "cell_type": "markdown",
   "id": "ac799089",
   "metadata": {},
   "source": [
    "7.\n",
    "Use COUNT to show the number of teachers and the number of mobile phones."
   ]
  },
  {
   "cell_type": "code",
   "execution_count": null,
   "id": "1b6576cb",
   "metadata": {},
   "outputs": [],
   "source": [
    "SELECT COUNT(name), COUNT(mobile)\n",
    "FROM teacher"
   ]
  },
  {
   "cell_type": "markdown",
   "id": "447006cc",
   "metadata": {},
   "source": [
    "\n",
    "8.\n",
    "Use COUNT and GROUP BY dept.name to show each department and the number of staff. Use a RIGHT JOIN to ensure that the Engineering department is listed.\n"
   ]
  },
  {
   "cell_type": "code",
   "execution_count": null,
   "id": "9e00d539",
   "metadata": {},
   "outputs": [],
   "source": [
    "SELECT dept.name, COUNT(teacher.name)\n",
    "FROM teacher\n",
    "RIGHT JOIN dept ON teacher.dept = dept.id\n",
    "GROUP BY dept.name"
   ]
  },
  {
   "cell_type": "markdown",
   "id": "c410585c",
   "metadata": {},
   "source": [
    "9.\n",
    "Use CASE to show the name of each teacher followed by 'Sci' if the teacher is in dept 1 or 2 and 'Art' otherwise."
   ]
  },
  {
   "cell_type": "code",
   "execution_count": null,
   "id": "63f51f30",
   "metadata": {},
   "outputs": [],
   "source": [
    "SELECT name, CASE WHEN dept = 1 OR dept = 2 THEN 'Sci' ELSE 'Art' END AS Department\n",
    "FROM teacher"
   ]
  },
  {
   "cell_type": "markdown",
   "id": "1efc06f9",
   "metadata": {},
   "source": [
    "10.\n",
    "Use CASE to show the name of each teacher followed by 'Sci' if the teacher is in dept 1 or 2, show 'Art' if the teacher's dept is 3 and 'None' otherwise."
   ]
  },
  {
   "cell_type": "code",
   "execution_count": null,
   "id": "bbfc7e7c",
   "metadata": {},
   "outputs": [],
   "source": [
    "SELECT name, CASE WHEN dept = 1 OR dept = 2 THEN 'Sci' \n",
    "                  WHEN dept = 3 THEN 'Art' \n",
    "                  ELSE 'None' \n",
    "             END AS Department\n",
    "FROM teacher\n"
   ]
  },
  {
   "cell_type": "markdown",
   "id": "3c79fb4b",
   "metadata": {},
   "source": [
    "### SELF join"
   ]
  },
  {
   "cell_type": "markdown",
   "id": "78d674af",
   "metadata": {},
   "source": [
    "1.\n",
    "How many stops are in the database."
   ]
  },
  {
   "cell_type": "code",
   "execution_count": null,
   "id": "46604e05",
   "metadata": {},
   "outputs": [],
   "source": [
    "SELECT count(id)\n",
    "FROM stops"
   ]
  },
  {
   "cell_type": "markdown",
   "id": "a28dbba8",
   "metadata": {},
   "source": [
    "2.\n",
    "Find the id value for the stop 'Craiglockhart'"
   ]
  },
  {
   "cell_type": "code",
   "execution_count": null,
   "id": "b1dc23ea",
   "metadata": {},
   "outputs": [],
   "source": [
    "SELECT id\n",
    "FROM stops\n",
    "WHERE name = 'Craiglockhart'"
   ]
  },
  {
   "cell_type": "markdown",
   "id": "4515a1e0",
   "metadata": {},
   "source": [
    "3.\n",
    "Give the id and the name for the stops on the '4' 'LRT' service.\n"
   ]
  },
  {
   "cell_type": "code",
   "execution_count": null,
   "id": "56919b35",
   "metadata": {},
   "outputs": [],
   "source": [
    "SELECT id, name\n",
    "FROM stops\n",
    "JOIN route route ON stops.id = route.stop\n",
    "WHERE num = '4' AND company = 'LRT'"
   ]
  },
  {
   "cell_type": "markdown",
   "id": "3826c0fc",
   "metadata": {},
   "source": [
    "Routes and stops\n",
    "\n",
    "4.\n",
    "The query shown gives the number of routes that visit either London Road (149) or Craiglockhart (53). Run the query and notice the two services that link these stops have a count of 2. Add a HAVING clause to restrict the output to these two routes.\n"
   ]
  },
  {
   "cell_type": "code",
   "execution_count": null,
   "id": "2f3befef",
   "metadata": {},
   "outputs": [],
   "source": [
    "SELECT company, num, COUNT(*)\n",
    "FROM route WHERE stop=149 OR stop=53\n",
    "GROUP BY company, num\n",
    "HAVING COUNT(*) > 1"
   ]
  },
  {
   "cell_type": "markdown",
   "id": "e64d1583",
   "metadata": {},
   "source": [
    "5.\n",
    "Execute the self join shown and observe that b.stop gives all the places you can get to from Craiglockhart, without changing routes. Change the query so that it shows the services from Craiglockhart to London Road."
   ]
  },
  {
   "cell_type": "code",
   "execution_count": null,
   "id": "5af42af4",
   "metadata": {},
   "outputs": [],
   "source": [
    "SELECT a.company, a.num, a.stop, b.stop\n",
    "FROM route a JOIN route b ON\n",
    "  (a.company=b.company AND a.num=b.num)\n",
    "WHERE a.stop=53 AND b.stop = 149"
   ]
  },
  {
   "cell_type": "markdown",
   "id": "d42dd05c",
   "metadata": {},
   "source": [
    "6.\n",
    "The query shown is similar to the previous one, however by joining two copies of the stops table we can refer to stops by name rather than by number. Change the query so that the services between 'Craiglockhart' and 'London Road' are shown. If you are tired of these places try 'Fairmilehead' against 'Tollcross'\n"
   ]
  },
  {
   "cell_type": "code",
   "execution_count": null,
   "id": "6bf777e6",
   "metadata": {},
   "outputs": [],
   "source": [
    "SELECT a.company, a.num, stopa.name, stopb.name\n",
    "FROM route a JOIN route b ON\n",
    "  (a.company=b.company AND a.num=b.num)\n",
    "  JOIN stops stopa ON (a.stop=stopa.id)\n",
    "  JOIN stops stopb ON (b.stop=stopb.id)\n",
    "WHERE stopa.name='Craiglockhart' AND stopb.name = 'London Road'"
   ]
  },
  {
   "cell_type": "markdown",
   "id": "a7b6e6eb",
   "metadata": {},
   "source": [
    "7.\n",
    "Give a list of all the services which connect stops 115 and 137 ('Haymarket' and 'Leith')\n"
   ]
  },
  {
   "cell_type": "code",
   "execution_count": null,
   "id": "bc138649",
   "metadata": {},
   "outputs": [],
   "source": [
    "SELECT DISTINCT(a.company),(a.num)\n",
    "FROM route a JOIN route b ON (a.company = b.company AND a.num = b.num)\n",
    "JOIN stops stopa ON (a.stop = stopa.id)\n",
    "JOIN stops stopb ON (b.stop = stopb.id)\n",
    "WHERE stopa.id = 115 AND stopb.id = 137"
   ]
  },
  {
   "cell_type": "markdown",
   "id": "90253ad8",
   "metadata": {},
   "source": [
    "8.\n",
    "Give a list of the services which connect the stops 'Craiglockhart' and 'Tollcross'"
   ]
  },
  {
   "cell_type": "code",
   "execution_count": null,
   "id": "399d69ca",
   "metadata": {},
   "outputs": [],
   "source": [
    "SELECT DISTINCT(a.company),(a.num)\n",
    "FROM route a JOIN route b ON (a.company = b.company AND a.num = b.num)\n",
    "JOIN stops stopa ON (a.stop = stopa.id)\n",
    "JOIN stops stopb ON (b.stop = stopb.id)\n",
    "WHERE stopa.name = 'Craiglockhart' AND stopb.name = 'Tollcross'"
   ]
  },
  {
   "cell_type": "markdown",
   "id": "cb2bc4a3",
   "metadata": {},
   "source": [
    "9.\n",
    "Give a distinct list of the stops which may be reached from 'Craiglockhart' by taking one bus, including 'Craiglockhart' itself, offered by the LRT company. Include the company and bus no. of the relevant services.\n"
   ]
  },
  {
   "cell_type": "code",
   "execution_count": null,
   "id": "9552d6b1",
   "metadata": {},
   "outputs": [],
   "source": [
    "SELECT DISTINCT(stopb.name),b.company,(a.num)\n",
    "FROM route a JOIN route b ON (a.company = b.company AND a.num = b.num)\n",
    "JOIN stops stopa ON (a.stop = stopa.id)\n",
    "JOIN stops stopb ON (b.stop = stopb.id)\n",
    "WHERE stopa.name = 'Craiglockhart' AND a.company = 'LRT'"
   ]
  },
  {
   "cell_type": "markdown",
   "id": "9eed19af",
   "metadata": {},
   "source": [
    "10.\n",
    "Find the routes involving two buses that can go from Craiglockhart to Lochend.\n",
    "Show the bus no. and company for the first bus, the name of the stop for the transfer,\n",
    "and the bus no. and company for the second bus.\n"
   ]
  },
  {
   "cell_type": "code",
   "execution_count": null,
   "id": "fad26796",
   "metadata": {},
   "outputs": [],
   "source": [
    "SELECT first.num, first.company, first.name, second.num, second.company \n",
    "FROM \n",
    "    (SELECT DISTINCT a.num, a.company, stopsb.name \n",
    "     FROM route a JOIN route b ON (a.num = b.num and a.company = b.company) \n",
    "                  JOIN stops stopsa ON stopsa.id = a.stop \n",
    "                  JOIN stops stopsb ON stopsb.id = b.stop \n",
    "     WHERE stopsa.name = 'Craiglockhart' AND stopsb.name <> 'Craiglockhart'\n",
    ") first\n",
    "\n",
    "JOIN\n",
    "    (SELECT a.num, a.company, stopsb.name \n",
    "     FROM route a JOIN route b ON (a.num = b.num and a.company = b.company) \n",
    "                  JOIN stops stopsa ON stopsa.id = a.stop \n",
    "                  JOIN stops stopsb ON stopsb.id = b.stop \n",
    "     WHERE stopsa.name = 'Lochend' AND stopsb.name <> 'Lochend'\n",
    "    ) second\n",
    "\n",
    "ON (first.name = second.name)\n",
    "ORDER BY first.num, first.name, second.num"
   ]
  }
 ],
 "metadata": {
  "kernelspec": {
   "display_name": "Python 3 (ipykernel)",
   "language": "python",
   "name": "python3"
  },
  "language_info": {
   "codemirror_mode": {
    "name": "ipython",
    "version": 3
   },
   "file_extension": ".py",
   "mimetype": "text/x-python",
   "name": "python",
   "nbconvert_exporter": "python",
   "pygments_lexer": "ipython3",
   "version": "3.8.12"
  }
 },
 "nbformat": 4,
 "nbformat_minor": 5
}
