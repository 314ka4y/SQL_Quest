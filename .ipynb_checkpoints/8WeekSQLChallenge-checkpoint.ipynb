{
 "cells": [
  {
   "cell_type": "markdown",
   "id": "72cceedc",
   "metadata": {},
   "source": [
    "#### This notebook is made with great respect to 8weeksqlchallenge.com team, who help people to learn SQL.\n",
    "All answers are my interpretations and they are not guaranteed to be the only right solution.\n",
    "Solutions prepared in PostgresSQL using Postbird "
   ]
  },
  {
   "cell_type": "markdown",
   "id": "f6823d43",
   "metadata": {},
   "source": [
    "### Week 1\n",
    "https://8weeksqlchallenge.com/case-study-1/"
   ]
  },
  {
   "cell_type": "markdown",
   "id": "09d8961f",
   "metadata": {},
   "source": [
    "1. What is the total amount each customer spent at the restaurant?"
   ]
  },
  {
   "cell_type": "code",
   "execution_count": null,
   "id": "b138100c",
   "metadata": {},
   "outputs": [],
   "source": [
    "SELECT sales.customer_id, SUM(menu.price)\n",
    "FROM dannys_diner.sales \n",
    "JOIN dannys_diner.menu \n",
    "    ON sales.product_id = menu.product_id\n",
    "GROUP BY sales.customer_id"
   ]
  },
  {
   "cell_type": "markdown",
   "id": "412a07f2",
   "metadata": {},
   "source": [
    "2. How many days has each customer visited the restaurant?"
   ]
  },
  {
   "cell_type": "code",
   "execution_count": null,
   "id": "a9f8004a",
   "metadata": {},
   "outputs": [],
   "source": [
    "SELECT sales.customer_id, COUNT(sales.order_date)\n",
    "FROM dannys_diner.sales \n",
    "GROUP BY sales.customer_id"
   ]
  },
  {
   "cell_type": "code",
   "execution_count": null,
   "id": "8407890c",
   "metadata": {},
   "outputs": [],
   "source": []
  }
 ],
 "metadata": {
  "kernelspec": {
   "display_name": "Python 3 (ipykernel)",
   "language": "python",
   "name": "python3"
  },
  "language_info": {
   "codemirror_mode": {
    "name": "ipython",
    "version": 3
   },
   "file_extension": ".py",
   "mimetype": "text/x-python",
   "name": "python",
   "nbconvert_exporter": "python",
   "pygments_lexer": "ipython3",
   "version": "3.8.12"
  }
 },
 "nbformat": 4,
 "nbformat_minor": 5
}
