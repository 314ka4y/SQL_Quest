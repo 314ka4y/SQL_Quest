{
 "cells": [
  {
   "cell_type": "markdown",
   "id": "52ff26ee",
   "metadata": {},
   "source": [
    "### Learn SQL"
   ]
  },
  {
   "cell_type": "markdown",
   "id": "2debfb10",
   "metadata": {},
   "source": [
    "5/10 MULTIPLE TABLES\n",
    "Left Joins\n",
    "What if we want to combine two tables and keep some of the un-matched rows?"
   ]
  },
  {
   "cell_type": "code",
   "execution_count": null,
   "id": "9b093489",
   "metadata": {},
   "outputs": [],
   "source": [
    "SELECT *\n",
    "FROM newspaper\n",
    "LEFT JOIN online\n",
    "  ON newspaper.id = online.id;\n",
    "\n",
    "SELECT *\n",
    "FROM newspaper\n",
    "LEFT JOIN online\n",
    "  ON newspaper.id = online.id\n",
    "WHERE online.id IS NULL;"
   ]
  },
  {
   "cell_type": "markdown",
   "id": "106111fb",
   "metadata": {},
   "source": [
    "6/10 MULTIPLE TABLES\n",
    "Primary Key vs Foreign Key"
   ]
  },
  {
   "cell_type": "code",
   "execution_count": null,
   "id": "a98ee5ab",
   "metadata": {},
   "outputs": [],
   "source": [
    "SELECT *\n",
    "FROM classes\n",
    "JOIN students\n",
    "ON classes.id = students.class_id"
   ]
  },
  {
   "cell_type": "markdown",
   "id": "495312ac",
   "metadata": {},
   "source": [
    "7/10 MULTIPLE TABLES\n",
    "Cross Join"
   ]
  },
  {
   "cell_type": "code",
   "execution_count": null,
   "id": "8d87ba8a",
   "metadata": {},
   "outputs": [],
   "source": [
    "SELECT COUNT(*)\n",
    "FROM newspaper\n",
    "WHERE start_month <=3 AND end_month >=3;\n",
    "\n",
    "SELECT *\n",
    "FROM newspaper\n",
    "CROSS JOIN months;\n",
    "\n",
    "SELECT *\n",
    "FROM newspaper\n",
    "CROSS JOIN months\n",
    "WHERE start_month <= month AND end_month >= month;\n",
    "\n",
    "SELECT month, COUNT(*)\n",
    "FROM newspaper\n",
    "CROSS JOIN months\n",
    "WHERE start_month <= month AND end_month >= month\n",
    "GROUP BY month;"
   ]
  },
  {
   "cell_type": "markdown",
   "id": "e744e354",
   "metadata": {},
   "source": [
    "8/10 MULTIPLE TABLES\n",
    "Union"
   ]
  },
  {
   "cell_type": "code",
   "execution_count": null,
   "id": "dbdef1ae",
   "metadata": {},
   "outputs": [],
   "source": [
    "SELECT *\n",
    "FROM newspaper\n",
    "UNION\n",
    "SELECT *\n",
    "FROM online"
   ]
  },
  {
   "cell_type": "markdown",
   "id": "80efb5a0",
   "metadata": {},
   "source": [
    "9/10MULTIPLE TABLES\n",
    "With"
   ]
  },
  {
   "cell_type": "code",
   "execution_count": null,
   "id": "139eea5a",
   "metadata": {},
   "outputs": [],
   "source": [
    "WITH previous_query AS (SELECT customer_id,\n",
    "   COUNT(subscription_id) AS 'subscriptions'\n",
    "FROM orders\n",
    "GROUP BY customer_id)\n",
    "SELECT customers.customer_name, \n",
    "   previous_query.subscriptions\n",
    "FROM previous_query\n",
    "JOIN customers\n",
    "ON previous_query.customer_id = customers.customer_id;"
   ]
  },
  {
   "cell_type": "markdown",
   "id": "e49618f8",
   "metadata": {},
   "source": [
    "LEARN SQL\n",
    "Lyft Trip Data\n",
    "Let’s practice what we learned about joins by combining rows from different tables."
   ]
  },
  {
   "cell_type": "code",
   "execution_count": null,
   "id": "c3dea75a",
   "metadata": {},
   "outputs": [],
   "source": [
    "SELECT * FROM trips;\n",
    "\n",
    "SELECT * FROM riders;\n",
    "\n",
    "SELECT * FROM cars;\n",
    "\n",
    "SELECT * FROM riders\n",
    "CROSS JOIN cars;\n",
    "\n",
    "SELECT * \n",
    "FROM trips\n",
    "INNER JOIN cars\n",
    "ON trips.car_id = cars.id;\n",
    "\n",
    "SELECT *\n",
    "FROM riders \n",
    "UNION \n",
    "SELECT * \n",
    "FROM riders2;\n",
    "\n",
    "SELECT AVG(cost)\n",
    "FROM trips;\n",
    "\n",
    "SELECT username\n",
    "FROM riders\n",
    "WHERE total_trips > 500;\n",
    "\n",
    "SELECT COUNT(*)\n",
    "FROM cars\n",
    "WHERE status = \"active\";\n",
    "\n",
    "SELECT *\n",
    "FROM cars\n",
    "ORDER BY trips_completed DESC\n",
    "LIMIT 2"
   ]
  },
  {
   "cell_type": "markdown",
   "id": "587f40ea",
   "metadata": {},
   "source": []
  },
  {
   "cell_type": "code",
   "execution_count": null,
   "id": "3cbaa66f",
   "metadata": {},
   "outputs": [],
   "source": []
  },
  {
   "cell_type": "code",
   "execution_count": null,
   "id": "f638ebb3",
   "metadata": {},
   "outputs": [],
   "source": []
  },
  {
   "cell_type": "code",
   "execution_count": null,
   "id": "22cee569",
   "metadata": {},
   "outputs": [],
   "source": []
  },
  {
   "cell_type": "code",
   "execution_count": null,
   "id": "d2f7b519",
   "metadata": {},
   "outputs": [],
   "source": []
  }
 ],
 "metadata": {
  "kernelspec": {
   "display_name": "Python 3 (ipykernel)",
   "language": "python",
   "name": "python3"
  },
  "language_info": {
   "codemirror_mode": {
    "name": "ipython",
    "version": 3
   },
   "file_extension": ".py",
   "mimetype": "text/x-python",
   "name": "python",
   "nbconvert_exporter": "python",
   "pygments_lexer": "ipython3",
   "version": "3.8.12"
  }
 },
 "nbformat": 4,
 "nbformat_minor": 5
}
