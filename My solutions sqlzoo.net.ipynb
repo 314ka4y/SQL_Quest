{
 "cells": [
  {
   "cell_type": "code",
   "execution_count": null,
   "id": "0c73351d",
   "metadata": {},
   "outputs": [],
   "source": []
  },
  {
   "cell_type": "markdown",
   "id": "2bf49209",
   "metadata": {},
   "source": [
    "### JOIN Statements"
   ]
  },
  {
   "cell_type": "markdown",
   "id": "d049071e",
   "metadata": {},
   "source": [
    "\n",
    "The first example shows the goal scored by a player with the last name 'Bender'. The * says to list all the columns in the table - a shorter way of saying matchid, teamid, player, gtime\n",
    "Modify it to show the matchid and player name for all goals scored by Germany. To identify German players, check for: teamid = 'GER'"
   ]
  },
  {
   "cell_type": "code",
   "execution_count": 1,
   "id": "cbcaca13",
   "metadata": {},
   "outputs": [
    {
     "ename": "SyntaxError",
     "evalue": "invalid syntax (3435229840.py, line 1)",
     "output_type": "error",
     "traceback": [
      "\u001b[0;36m  File \u001b[0;32m\"/var/folders/bg/b5dfn0gj1lz88k7ms283yrlm0000gn/T/ipykernel_30574/3435229840.py\"\u001b[0;36m, line \u001b[0;32m1\u001b[0m\n\u001b[0;31m    SELECT matchid, player\u001b[0m\n\u001b[0m           ^\u001b[0m\n\u001b[0;31mSyntaxError\u001b[0m\u001b[0;31m:\u001b[0m invalid syntax\n"
     ]
    }
   ],
   "source": [
    "SELECT matchid, player  \n",
    "FROM goal \n",
    "WHERE teamid = 'GER'"
   ]
  },
  {
   "cell_type": "markdown",
   "id": "7ccc3c32",
   "metadata": {},
   "source": [
    "2.\n",
    "From the previous query you can see that Lars Bender's scored a goal in game 1012. Now we want to know what teams were playing in that match.\n",
    "Notice in the that the column matchid in the goal table corresponds to the id column in the game table. We can look up information about game 1012 by finding that row in the game table.\n",
    "Show id, stadium, team1, team2 for just game 1012"
   ]
  },
  {
   "cell_type": "code",
   "execution_count": null,
   "id": "4b72a42b",
   "metadata": {},
   "outputs": [],
   "source": [
    "SELECT id,stadium,team1,team2\n",
    "  FROM game \n",
    "WHERE id = 1012"
   ]
  },
  {
   "cell_type": "markdown",
   "id": "2e5941a8",
   "metadata": {},
   "source": [
    "\n",
    "3 You can combine the two steps into a single query with a JOIN.\n",
    "\n",
    "SELECT *\n",
    "  FROM game JOIN goal ON (id=matchid)\n",
    "The FROM clause says to merge data from the goal table with that from the game table. The ON says how to figure out which rows in game go with which rows in goal - the matchid from goal must match id from game. (If we wanted to be more clear/specific we could say\n",
    "ON (game.id=goal.matchid)\n",
    "\n",
    "The code below shows the player (from the goal) and stadium name (from the game table) for every goal scored.\n",
    "\n",
    "Modify it to show the player, teamid, stadium and mdate for every German goal.\n"
   ]
  },
  {
   "cell_type": "code",
   "execution_count": null,
   "id": "9073099b",
   "metadata": {},
   "outputs": [],
   "source": [
    "SELECT player,teamid, stadium, mdate\n",
    "  FROM game JOIN goal ON (id=matchid)\n",
    "WHERE teamid = 'GER'"
   ]
  },
  {
   "cell_type": "markdown",
   "id": "3d900baa",
   "metadata": {},
   "source": [
    "4. Use the same JOIN as in the previous question.\n",
    "\n",
    "Show the team1, team2 and player for every goal scored by a player called Mario player LIKE 'Mario%'"
   ]
  },
  {
   "cell_type": "code",
   "execution_count": null,
   "id": "e649df80",
   "metadata": {},
   "outputs": [],
   "source": [
    "SELECT team1, team2, player\n",
    "FROM game JOIN goal ON (id = matchid)\n",
    "WHERE player LIKE 'Mario%'"
   ]
  },
  {
   "cell_type": "markdown",
   "id": "3c330380",
   "metadata": {},
   "source": [
    "5. The table eteam gives details of every national team including the coach. You can JOIN goal to eteam using the phrase goal JOIN eteam on teamid=id\n",
    "Show player, teamid, coach, gtime for all goals scored in the first 10 minutes gtime<=10"
   ]
  },
  {
   "cell_type": "code",
   "execution_count": null,
   "id": "5acf7652",
   "metadata": {},
   "outputs": [],
   "source": [
    "SELECT player, teamid, coach, gtime\n",
    "FROM goal JOIN eteam ON (teamid=id)\n",
    "WHERE goal.gtime<=10\n"
   ]
  },
  {
   "cell_type": "markdown",
   "id": "61cb0543",
   "metadata": {},
   "source": [
    "6. To JOIN game with eteam you could use either\n",
    "game JOIN eteam ON (team1=eteam.id) or game JOIN eteam ON (team2=eteam.id)\n",
    "\n",
    "Notice that because id is a column name in both game and eteam you must specify eteam.id instead of just id\n",
    "\n",
    "List the dates of the matches and the name of the team in which 'Fernando Santos' was the team1 coach."
   ]
  },
  {
   "cell_type": "code",
   "execution_count": null,
   "id": "b88d952b",
   "metadata": {},
   "outputs": [],
   "source": [
    "SELECT mdate, teamname\n",
    "FROM game JOIN eteam ON (team1 = eteam.id)\n",
    "WHERE eteam.coach = 'Fernando Santos' "
   ]
  },
  {
   "cell_type": "markdown",
   "id": "ef0255fa",
   "metadata": {},
   "source": [
    "7. List the player for every goal scored in a game where the stadium was 'National Stadium, Warsaw'\n"
   ]
  },
  {
   "cell_type": "code",
   "execution_count": null,
   "id": "71c511ec",
   "metadata": {},
   "outputs": [],
   "source": [
    "SELECT player\n",
    "FROM goal JOIN game ON (id = matchid)\n",
    "WHERE stadium = 'National Stadium, Warsaw'"
   ]
  },
  {
   "cell_type": "markdown",
   "id": "5f9b6aa8",
   "metadata": {},
   "source": [
    "8. The example query shows all goals scored in the Germany-Greece quarterfinal.\n",
    "Instead show the name of all players who scored a goal against Germany."
   ]
  },
  {
   "cell_type": "code",
   "execution_count": null,
   "id": "17189c31",
   "metadata": {},
   "outputs": [],
   "source": [
    "SELECT DISTINCT(player)\n",
    "FROM game JOIN goal ON matchid = id \n",
    "WHERE (team1 = 'GER' OR team2='GER') AND teamid <> 'GER' "
   ]
  },
  {
   "cell_type": "markdown",
   "id": "e211ad19",
   "metadata": {},
   "source": [
    "9. Show teamname and the total number of goals scored."
   ]
  },
  {
   "cell_type": "code",
   "execution_count": null,
   "id": "0991f9ae",
   "metadata": {},
   "outputs": [],
   "source": [
    "COUNT and GROUP BY\n",
    "SELECT teamname, COUNT(player)\n",
    "  FROM eteam JOIN goal ON id=teamid\n",
    "GROUP BY teamname"
   ]
  },
  {
   "cell_type": "markdown",
   "id": "c6298443",
   "metadata": {},
   "source": [
    "10. Show the stadium and the number of goals scored in each stadium.\n"
   ]
  },
  {
   "cell_type": "code",
   "execution_count": null,
   "id": "7b0073b2",
   "metadata": {},
   "outputs": [],
   "source": [
    "SELECT stadium, COUNT(player)\n",
    "  FROM game JOIN goal ON id=matchid\n",
    "GROUP BY stadium"
   ]
  },
  {
   "cell_type": "markdown",
   "id": "fcf80bcd",
   "metadata": {},
   "source": [
    "11 . For every match involving 'POL', show the matchid, date and the number of goals scored."
   ]
  },
  {
   "cell_type": "code",
   "execution_count": 4,
   "id": "8cf670d1",
   "metadata": {},
   "outputs": [
    {
     "ename": "SyntaxError",
     "evalue": "invalid syntax (442417754.py, line 1)",
     "output_type": "error",
     "traceback": [
      "\u001b[0;36m  File \u001b[0;32m\"/var/folders/bg/b5dfn0gj1lz88k7ms283yrlm0000gn/T/ipykernel_30574/442417754.py\"\u001b[0;36m, line \u001b[0;32m1\u001b[0m\n\u001b[0;31m    SELECT matchid, mdate, COUNT(teamid)\u001b[0m\n\u001b[0m           ^\u001b[0m\n\u001b[0;31mSyntaxError\u001b[0m\u001b[0;31m:\u001b[0m invalid syntax\n"
     ]
    }
   ],
   "source": [
    "SELECT matchid, mdate, COUNT(teamid)\n",
    "FROM game JOIN goal ON matchid = id \n",
    "WHERE (team1 = 'POL' OR team2 = 'POL')\n",
    "GROUP BY matchid, mdate"
   ]
  },
  {
   "cell_type": "markdown",
   "id": "4eafaef1",
   "metadata": {},
   "source": [
    "12. For every match where 'GER' scored, show matchid, match date and the number of goals scored by 'GER'"
   ]
  },
  {
   "cell_type": "code",
   "execution_count": null,
   "id": "0277e857",
   "metadata": {},
   "outputs": [],
   "source": [
    "SELECT matchid, mdate, COUNT(player)\n",
    "FROM game JOIN goal ON matchid = id \n",
    "WHERE (team1 = 'GER' OR team2 = 'GER') AND (teamid = 'GER')\n",
    "GROUP BY matchid, mdate"
   ]
  },
  {
   "cell_type": "markdown",
   "id": "c0909a2c",
   "metadata": {},
   "source": [
    "13.List every match with the goals scored by each team as shown. This will use \"CASE WHEN\" which has not been explained in any previous exercises.\n",
    "mdate\tteam1\tscore1\tteam2\tscore2\n",
    "1 July 2012\tESP\t4\tITA\t0\n",
    "10 June 2012\tESP\t1\tITA\t1\n",
    "10 June 2012\tIRL\t1\tCRO\t3\n",
    "...\n",
    "Notice in the query given every goal is listed. If it was a team1 goal then a 1 appears in score1, otherwise there is a 0. You could SUM this column to get a count of the goals scored by team1. Sort your result by mdate, matchid, team1 and team2.\n"
   ]
  },
  {
   "cell_type": "code",
   "execution_count": null,
   "id": "941c8feb",
   "metadata": {},
   "outputs": [],
   "source": [
    "SELECT mdate, \n",
    "team1, SUM(CASE WHEN teamid=team1 THEN 1 ELSE 0 END) AS score1,\n",
    "team2, SUM(CASE WHEN teamid=team2 THEN 1 ELSE 0 END) AS score2\n",
    "FROM game JOIN goal ON matchid = id\n",
    "GROUP BY matchid, mdate, team1, team2\n",
    "ORDER BY mdate, matchid, team1 , team2\n",
    "\n"
   ]
  }
 ],
 "metadata": {
  "kernelspec": {
   "display_name": "Python 3 (ipykernel)",
   "language": "python",
   "name": "python3"
  },
  "language_info": {
   "codemirror_mode": {
    "name": "ipython",
    "version": 3
   },
   "file_extension": ".py",
   "mimetype": "text/x-python",
   "name": "python",
   "nbconvert_exporter": "python",
   "pygments_lexer": "ipython3",
   "version": "3.8.12"
  }
 },
 "nbformat": 4,
 "nbformat_minor": 5
}
