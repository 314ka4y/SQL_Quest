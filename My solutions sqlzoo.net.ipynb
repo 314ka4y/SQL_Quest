{
 "cells": [
  {
   "cell_type": "markdown",
   "id": "e1b6e15b",
   "metadata": {},
   "source": [
    "### SELECT statement"
   ]
  },
  {
   "cell_type": "markdown",
   "id": "2c0aa4ba",
   "metadata": {},
   "source": [
    "1.Bigger than Russia\n",
    "List each country name where the population is larger than that of 'Russia'."
   ]
  },
  {
   "cell_type": "code",
   "execution_count": null,
   "id": "287d93f8",
   "metadata": {},
   "outputs": [],
   "source": [
    "SELECT name FROM world\n",
    "  WHERE population >\n",
    "     (SELECT population FROM world\n",
    "      WHERE name='Russia')"
   ]
  },
  {
   "cell_type": "markdown",
   "id": "54a0977b",
   "metadata": {},
   "source": [
    "2.\n",
    "Show the countries in Europe with a per capita GDP greater than 'United Kingdom'."
   ]
  },
  {
   "cell_type": "code",
   "execution_count": null,
   "id": "77c04257",
   "metadata": {},
   "outputs": [],
   "source": [
    "SELECT name\n",
    "FROM world\n",
    "WHERE continent = 'Europe' AND gdp/population > (SELECT gdp/population\n",
    "                                                FROM world \n",
    "                                                WHERE name = 'United Kingdom')"
   ]
  },
  {
   "cell_type": "markdown",
   "id": "3fc9ff05",
   "metadata": {},
   "source": [
    "3. List the name and continent of countries in the continents containing either Argentina or Australia. Order by name of the country."
   ]
  },
  {
   "cell_type": "code",
   "execution_count": null,
   "id": "76ff86ee",
   "metadata": {},
   "outputs": [],
   "source": [
    "SELECT name, continent\n",
    "FROM world\n",
    "WHERE continent IN (SELECT continent\n",
    "                    FROM world\n",
    "                    WHERE name = 'Argentina' OR name = 'Australia')\n",
    "ORDER BY name"
   ]
  },
  {
   "cell_type": "markdown",
   "id": "a316b12e",
   "metadata": {},
   "source": [
    "4. Which country has a population that is more than Canada but less than Poland? Show the name and the population.\n"
   ]
  },
  {
   "cell_type": "code",
   "execution_count": null,
   "id": "00c914e2",
   "metadata": {},
   "outputs": [],
   "source": [
    "SELECT name, population\n",
    "FROM world\n",
    "WHERE population >  (SELECT population\n",
    "                    FROM world\n",
    "                    WHERE name = 'Canada')\n",
    "AND population < (SELECT population\n",
    "                  FROM world\n",
    "                  WHERE name = 'Poland')"
   ]
  },
  {
   "cell_type": "markdown",
   "id": "c288bea1",
   "metadata": {},
   "source": [
    "5.Germany (population 80 million) has the largest population of the countries in Europe. Austria (population 8.5 million) has 11% of the population of Germany.\n",
    "\n",
    "Show the name and the population of each country in Europe. Show the population as a percentage of the population of Germany."
   ]
  },
  {
   "cell_type": "code",
   "execution_count": null,
   "id": "2ffc67d2",
   "metadata": {},
   "outputs": [],
   "source": [
    "SELECT name, CONCAT(ROUND(100*population/(SELECT population \n",
    "                             FROM world\n",
    "                             WHERE name ='Germany')), '%') as percentage\n",
    "FROM world\n",
    "WHERE continent = 'EUROPE'"
   ]
  },
  {
   "cell_type": "markdown",
   "id": "46efd5aa",
   "metadata": {},
   "source": [
    "6.\n",
    "Which countries have a GDP greater than every country in Europe? [Give the name only.] (Some countries may have NULL gdp values)"
   ]
  },
  {
   "cell_type": "code",
   "execution_count": null,
   "id": "75203728",
   "metadata": {},
   "outputs": [],
   "source": [
    "SELECT name\n",
    "FROM world\n",
    "WHERE gdp > ALL (SELECT gdp\n",
    "                 FROM world\n",
    "                 WHERE continent = 'Europe' AND gdp > 0)"
   ]
  },
  {
   "cell_type": "markdown",
   "id": "41e8e10f",
   "metadata": {},
   "source": [
    "7.\n",
    "Find the largest country (by area) in each continent, show the continent, the name and the area:"
   ]
  },
  {
   "cell_type": "code",
   "execution_count": null,
   "id": "51c6c90e",
   "metadata": {},
   "outputs": [],
   "source": [
    "SELECT continent, name, area FROM world x\n",
    "WHERE area >= ALL\n",
    "    (SELECT area \n",
    "     FROM world y\n",
    "     WHERE y.continent=x.continent AND population>0)"
   ]
  },
  {
   "cell_type": "markdown",
   "id": "9ca20a4a",
   "metadata": {},
   "source": [
    "8.\n",
    "List each continent and the name of the country that comes first alphabetically."
   ]
  },
  {
   "cell_type": "code",
   "execution_count": null,
   "id": "2173feef",
   "metadata": {},
   "outputs": [],
   "source": [
    "SELECT continent, name\n",
    "FROM world x\n",
    "WHERE name <= ALL\n",
    "    (SELECT name FROM world y\n",
    "    WHERE y.continent=x.continent\n",
    "    AND population>0)"
   ]
  },
  {
   "cell_type": "markdown",
   "id": "a568dbf4",
   "metadata": {},
   "source": [
    "9.\n",
    "Find the continents where all countries have a population <= 25000000. Then find the names of the countries associated with these continents. Show name, continent and population."
   ]
  },
  {
   "cell_type": "code",
   "execution_count": null,
   "id": "a266028e",
   "metadata": {},
   "outputs": [],
   "source": [
    "SELECT  name, continent, population\n",
    "FROM world x\n",
    "WHERE 25000000 > ALL\n",
    "(SELECT population\n",
    "FROM world y\n",
    "WHERE x.continent = y.continent AND population >0)"
   ]
  },
  {
   "cell_type": "markdown",
   "id": "7ad491db",
   "metadata": {},
   "source": [
    "10.\n",
    "Some countries have populations more than three times that of all of their neighbours (in the same continent). Give the countries and continents."
   ]
  },
  {
   "cell_type": "code",
   "execution_count": null,
   "id": "05137011",
   "metadata": {},
   "outputs": [],
   "source": [
    "SELECT name, continent\n",
    "FROM world x\n",
    "WHERE population > ALL\n",
    "    (SELECT 3*population\n",
    "    FROM world y\n",
    "    WHERE x.continent = y.continent AND population >0 AND y.name != x.name)\n",
    "\n"
   ]
  },
  {
   "cell_type": "markdown",
   "id": "6fa7271f",
   "metadata": {},
   "source": [
    "### JOIN Statements"
   ]
  },
  {
   "cell_type": "markdown",
   "id": "9f7c16ae",
   "metadata": {},
   "source": [
    "\n",
    "The first example shows the goal scored by a player with the last name 'Bender'. The * says to list all the columns in the table - a shorter way of saying matchid, teamid, player, gtime\n",
    "Modify it to show the matchid and player name for all goals scored by Germany. To identify German players, check for: teamid = 'GER'"
   ]
  },
  {
   "cell_type": "code",
   "execution_count": 1,
   "id": "2932bcf1",
   "metadata": {},
   "outputs": [
    {
     "ename": "SyntaxError",
     "evalue": "invalid syntax (3435229840.py, line 1)",
     "output_type": "error",
     "traceback": [
      "\u001b[0;36m  File \u001b[0;32m\"/var/folders/bg/b5dfn0gj1lz88k7ms283yrlm0000gn/T/ipykernel_30574/3435229840.py\"\u001b[0;36m, line \u001b[0;32m1\u001b[0m\n\u001b[0;31m    SELECT matchid, player\u001b[0m\n\u001b[0m           ^\u001b[0m\n\u001b[0;31mSyntaxError\u001b[0m\u001b[0;31m:\u001b[0m invalid syntax\n"
     ]
    }
   ],
   "source": [
    "SELECT matchid, player  \n",
    "FROM goal \n",
    "WHERE teamid = 'GER'"
   ]
  },
  {
   "cell_type": "markdown",
   "id": "1bf325e6",
   "metadata": {},
   "source": [
    "2.\n",
    "From the previous query you can see that Lars Bender's scored a goal in game 1012. Now we want to know what teams were playing in that match.\n",
    "Notice in the that the column matchid in the goal table corresponds to the id column in the game table. We can look up information about game 1012 by finding that row in the game table.\n",
    "Show id, stadium, team1, team2 for just game 1012"
   ]
  },
  {
   "cell_type": "code",
   "execution_count": null,
   "id": "efb2700b",
   "metadata": {},
   "outputs": [],
   "source": [
    "SELECT id,stadium,team1,team2\n",
    "  FROM game \n",
    "WHERE id = 1012"
   ]
  },
  {
   "cell_type": "markdown",
   "id": "2b834825",
   "metadata": {},
   "source": [
    "\n",
    "3 You can combine the two steps into a single query with a JOIN.\n",
    "\n",
    "SELECT *\n",
    "  FROM game JOIN goal ON (id=matchid)\n",
    "The FROM clause says to merge data from the goal table with that from the game table. The ON says how to figure out which rows in game go with which rows in goal - the matchid from goal must match id from game. (If we wanted to be more clear/specific we could say\n",
    "ON (game.id=goal.matchid)\n",
    "\n",
    "The code below shows the player (from the goal) and stadium name (from the game table) for every goal scored.\n",
    "\n",
    "Modify it to show the player, teamid, stadium and mdate for every German goal.\n"
   ]
  },
  {
   "cell_type": "code",
   "execution_count": null,
   "id": "5b18f435",
   "metadata": {},
   "outputs": [],
   "source": [
    "SELECT player,teamid, stadium, mdate\n",
    "  FROM game JOIN goal ON (id=matchid)\n",
    "WHERE teamid = 'GER'"
   ]
  },
  {
   "cell_type": "markdown",
   "id": "ced66148",
   "metadata": {},
   "source": [
    "4. Use the same JOIN as in the previous question.\n",
    "\n",
    "Show the team1, team2 and player for every goal scored by a player called Mario player LIKE 'Mario%'"
   ]
  },
  {
   "cell_type": "code",
   "execution_count": null,
   "id": "e0c00cd4",
   "metadata": {},
   "outputs": [],
   "source": [
    "SELECT team1, team2, player\n",
    "FROM game JOIN goal ON (id = matchid)\n",
    "WHERE player LIKE 'Mario%'"
   ]
  },
  {
   "cell_type": "markdown",
   "id": "71259c54",
   "metadata": {},
   "source": [
    "5. The table eteam gives details of every national team including the coach. You can JOIN goal to eteam using the phrase goal JOIN eteam on teamid=id\n",
    "Show player, teamid, coach, gtime for all goals scored in the first 10 minutes gtime<=10"
   ]
  },
  {
   "cell_type": "code",
   "execution_count": null,
   "id": "f0a64b86",
   "metadata": {},
   "outputs": [],
   "source": [
    "SELECT player, teamid, coach, gtime\n",
    "FROM goal JOIN eteam ON (teamid=id)\n",
    "WHERE goal.gtime<=10\n"
   ]
  },
  {
   "cell_type": "markdown",
   "id": "bc3f501c",
   "metadata": {},
   "source": [
    "6. To JOIN game with eteam you could use either\n",
    "game JOIN eteam ON (team1=eteam.id) or game JOIN eteam ON (team2=eteam.id)\n",
    "\n",
    "Notice that because id is a column name in both game and eteam you must specify eteam.id instead of just id\n",
    "\n",
    "List the dates of the matches and the name of the team in which 'Fernando Santos' was the team1 coach."
   ]
  },
  {
   "cell_type": "code",
   "execution_count": null,
   "id": "463fbba5",
   "metadata": {},
   "outputs": [],
   "source": [
    "SELECT mdate, teamname\n",
    "FROM game JOIN eteam ON (team1 = eteam.id)\n",
    "WHERE eteam.coach = 'Fernando Santos' "
   ]
  },
  {
   "cell_type": "markdown",
   "id": "b1bcc577",
   "metadata": {},
   "source": [
    "7. List the player for every goal scored in a game where the stadium was 'National Stadium, Warsaw'\n"
   ]
  },
  {
   "cell_type": "code",
   "execution_count": null,
   "id": "71d453d2",
   "metadata": {},
   "outputs": [],
   "source": [
    "SELECT player\n",
    "FROM goal JOIN game ON (id = matchid)\n",
    "WHERE stadium = 'National Stadium, Warsaw'"
   ]
  },
  {
   "cell_type": "markdown",
   "id": "38006018",
   "metadata": {},
   "source": [
    "8. The example query shows all goals scored in the Germany-Greece quarterfinal.\n",
    "Instead show the name of all players who scored a goal against Germany."
   ]
  },
  {
   "cell_type": "code",
   "execution_count": null,
   "id": "e394ab69",
   "metadata": {},
   "outputs": [],
   "source": [
    "SELECT DISTINCT(player)\n",
    "FROM game JOIN goal ON matchid = id \n",
    "WHERE (team1 = 'GER' OR team2='GER') AND teamid <> 'GER' "
   ]
  },
  {
   "cell_type": "markdown",
   "id": "5667fc61",
   "metadata": {},
   "source": [
    "9. Show teamname and the total number of goals scored."
   ]
  },
  {
   "cell_type": "code",
   "execution_count": null,
   "id": "4b50fdcb",
   "metadata": {},
   "outputs": [],
   "source": [
    "COUNT and GROUP BY\n",
    "SELECT teamname, COUNT(player)\n",
    "  FROM eteam JOIN goal ON id=teamid\n",
    "GROUP BY teamname"
   ]
  },
  {
   "cell_type": "markdown",
   "id": "915f85eb",
   "metadata": {},
   "source": [
    "10. Show the stadium and the number of goals scored in each stadium.\n"
   ]
  },
  {
   "cell_type": "code",
   "execution_count": null,
   "id": "c0e0d9a5",
   "metadata": {},
   "outputs": [],
   "source": [
    "SELECT stadium, COUNT(player)\n",
    "  FROM game JOIN goal ON id=matchid\n",
    "GROUP BY stadium"
   ]
  },
  {
   "cell_type": "markdown",
   "id": "97060e2e",
   "metadata": {},
   "source": [
    "11 . For every match involving 'POL', show the matchid, date and the number of goals scored."
   ]
  },
  {
   "cell_type": "code",
   "execution_count": 4,
   "id": "a3846273",
   "metadata": {},
   "outputs": [
    {
     "ename": "SyntaxError",
     "evalue": "invalid syntax (442417754.py, line 1)",
     "output_type": "error",
     "traceback": [
      "\u001b[0;36m  File \u001b[0;32m\"/var/folders/bg/b5dfn0gj1lz88k7ms283yrlm0000gn/T/ipykernel_30574/442417754.py\"\u001b[0;36m, line \u001b[0;32m1\u001b[0m\n\u001b[0;31m    SELECT matchid, mdate, COUNT(teamid)\u001b[0m\n\u001b[0m           ^\u001b[0m\n\u001b[0;31mSyntaxError\u001b[0m\u001b[0;31m:\u001b[0m invalid syntax\n"
     ]
    }
   ],
   "source": [
    "SELECT matchid, mdate, COUNT(teamid)\n",
    "FROM game JOIN goal ON matchid = id \n",
    "WHERE (team1 = 'POL' OR team2 = 'POL')\n",
    "GROUP BY matchid, mdate"
   ]
  },
  {
   "cell_type": "markdown",
   "id": "24f16c96",
   "metadata": {},
   "source": [
    "12. For every match where 'GER' scored, show matchid, match date and the number of goals scored by 'GER'"
   ]
  },
  {
   "cell_type": "code",
   "execution_count": null,
   "id": "742a545b",
   "metadata": {},
   "outputs": [],
   "source": [
    "SELECT matchid, mdate, COUNT(player)\n",
    "FROM game JOIN goal ON matchid = id \n",
    "WHERE (team1 = 'GER' OR team2 = 'GER') AND (teamid = 'GER')\n",
    "GROUP BY matchid, mdate"
   ]
  },
  {
   "cell_type": "markdown",
   "id": "2d78f1a5",
   "metadata": {},
   "source": [
    "13.List every match with the goals scored by each team as shown. This will use \"CASE WHEN\" which has not been explained in any previous exercises.\n",
    "mdate\tteam1\tscore1\tteam2\tscore2\n",
    "1 July 2012\tESP\t4\tITA\t0\n",
    "10 June 2012\tESP\t1\tITA\t1\n",
    "10 June 2012\tIRL\t1\tCRO\t3\n",
    "...\n",
    "Notice in the query given every goal is listed. If it was a team1 goal then a 1 appears in score1, otherwise there is a 0. You could SUM this column to get a count of the goals scored by team1. Sort your result by mdate, matchid, team1 and team2.\n"
   ]
  },
  {
   "cell_type": "code",
   "execution_count": null,
   "id": "0acc0c3d",
   "metadata": {},
   "outputs": [],
   "source": [
    "SELECT mdate, \n",
    "team1, SUM(CASE WHEN teamid=team1 THEN 1 ELSE 0 END) AS score1,\n",
    "team2, SUM(CASE WHEN teamid=team2 THEN 1 ELSE 0 END) AS score2\n",
    "FROM game JOIN goal ON matchid = id\n",
    "GROUP BY matchid, mdate, team1, team2\n",
    "ORDER BY mdate, matchid, team1 , team2\n",
    "\n"
   ]
  }
 ],
 "metadata": {
  "kernelspec": {
   "display_name": "Python 3 (ipykernel)",
   "language": "python",
   "name": "python3"
  },
  "language_info": {
   "codemirror_mode": {
    "name": "ipython",
    "version": 3
   },
   "file_extension": ".py",
   "mimetype": "text/x-python",
   "name": "python",
   "nbconvert_exporter": "python",
   "pygments_lexer": "ipython3",
   "version": "3.8.12"
  }
 },
 "nbformat": 4,
 "nbformat_minor": 5
}
