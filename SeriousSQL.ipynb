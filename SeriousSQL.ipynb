{
 "cells": [
  {
   "cell_type": "markdown",
   "id": "b02da30c",
   "metadata": {},
   "source": [
    "## 1) Markdown practice"
   ]
  },
  {
   "cell_type": "markdown",
   "id": "d6af901e",
   "metadata": {},
   "source": [
    "### 2.2.1. This is a level 3 heading\n",
    "\n",
    "There are also single and double hashtag titles for level 1 and 2 - but I wanted to keep my table of contents for this tutorial clean and tidy :)\n",
    "\n",
    "You can also type some text here.\n",
    "\n",
    "This is how you do something in **bold** or _italics_\n",
    "\n",
    "Then you can make a list of bullet points:\n",
    "\n",
    "* 1, 2, 3\n",
    "* A, B, C\n",
    "* what about an indented bullet?\n",
    "  + as easy as it gets!\n",
    "\n",
    "1. What if you want numbered lists?\n",
    "2. As easy as this!\n",
    "\n",
    "We can also add images using a few methods as long as the file is in the right path!\n",
    "\n",
    "<img alt=\"alternate text goes here\" src=\"lets-do-this.jpg\" width=\"60%\" />\n",
    "\n",
    "![You can add some alternate text here](doh.jpg)\n",
    "\n",
    "Finally - we can add code chunks like so to have SQL syntax highlighting turned on:\n",
    "\n",
    "```sql\n",
    "SELECT * FROM some_table\n",
    "```\n",
    "\n",
    "Or you can have code in-line like this `SELECT * FROM some_table` but the syntax highlighting won't on for these in-line code snippets.\n",
    "\n",
    "If you want to highlight something you can also use blockquotes:\n",
    "\n",
    "> Something you really want to emphasise\n",
    "\n",
    "You can also do page breaks using three underscores together like below to slightly separate sections of your document\n",
    "\n",
    "---\n",
    "\n",
    "Finally we can also include external links to websites like [https://www.google.com]"
   ]
  },
  {
   "cell_type": "markdown",
   "id": "2b1418db",
   "metadata": {},
   "source": [
    "## 2) SELECT, ORDER BY practice"
   ]
  },
  {
   "cell_type": "markdown",
   "id": "97d7826d",
   "metadata": {},
   "source": [
    "What is the name of the category with the highest category_id in the dvd_rentals.category table?"
   ]
  },
  {
   "cell_type": "code",
   "execution_count": null,
   "id": "82ac882a",
   "metadata": {},
   "outputs": [],
   "source": [
    "SELECT\n",
    "name,\n",
    "category_id\n",
    "FROM dvd_rentals.category\n",
    "ORDER BY 2 DESC\n",
    "LIMIT 1;"
   ]
  },
  {
   "cell_type": "markdown",
   "id": "e6329b6a",
   "metadata": {},
   "source": [
    "For the films with the longest length, what is the title of the “R” rated film with the lowest replacement_cost in dvd_rentals.film table?"
   ]
  },
  {
   "cell_type": "code",
   "execution_count": null,
   "id": "95984d73",
   "metadata": {},
   "outputs": [],
   "source": [
    "SELECT\n",
    "title,\n",
    "replacement_cost,\n",
    "length,\n",
    "rating\n",
    "FROM dvd_rentals.film\n",
    "ORDER BY 3 DESC,2\n",
    "LIMIT 10;"
   ]
  },
  {
   "cell_type": "markdown",
   "id": "1b637e7f",
   "metadata": {},
   "source": [
    "Who was the manager of the store with the highest total_sales in the dvd_rentals.sales_by_store table?"
   ]
  },
  {
   "cell_type": "code",
   "execution_count": null,
   "id": "d80c8004",
   "metadata": {},
   "outputs": [],
   "source": [
    "SELECT\n",
    "manager,\n",
    "sales_by_store\n",
    "FROM dvd_rentals.sales_by_store\n",
    "ORDER BY 2 DESC\n",
    "LIMIT 1;"
   ]
  },
  {
   "cell_type": "markdown",
   "id": "410fb171",
   "metadata": {},
   "source": [
    "What is the postal_code of the city with the 5th highest city_id in the dvd_rentals.address table?"
   ]
  },
  {
   "cell_type": "code",
   "execution_count": null,
   "id": "71076760",
   "metadata": {},
   "outputs": [],
   "source": [
    "SELECT\n",
    "postal_code,\n",
    "city_id\n",
    "FROM dvd_rentals.address\n",
    "ORDER BY 2 DESC\n",
    "LIMIT 5;"
   ]
  },
  {
   "cell_type": "markdown",
   "id": "65101ea8",
   "metadata": {},
   "source": []
  },
  {
   "cell_type": "code",
   "execution_count": null,
   "id": "f0dcb49d",
   "metadata": {},
   "outputs": [],
   "source": []
  }
 ],
 "metadata": {
  "kernelspec": {
   "display_name": "Python 3 (ipykernel)",
   "language": "python",
   "name": "python3"
  },
  "language_info": {
   "codemirror_mode": {
    "name": "ipython",
    "version": 3
   },
   "file_extension": ".py",
   "mimetype": "text/x-python",
   "name": "python",
   "nbconvert_exporter": "python",
   "pygments_lexer": "ipython3",
   "version": "3.8.12"
  }
 },
 "nbformat": 4,
 "nbformat_minor": 5
}
