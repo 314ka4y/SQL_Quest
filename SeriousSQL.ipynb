{
 "cells": [
  {
   "cell_type": "markdown",
   "id": "06604446",
   "metadata": {},
   "source": [
    "## 1) Markdown practice"
   ]
  },
  {
   "cell_type": "markdown",
   "id": "b93efb4e",
   "metadata": {},
   "source": [
    "### 2.2.1. This is a level 3 heading\n",
    "\n",
    "There are also single and double hashtag titles for level 1 and 2 - but I wanted to keep my table of contents for this tutorial clean and tidy :)\n",
    "\n",
    "You can also type some text here.\n",
    "\n",
    "This is how you do something in **bold** or _italics_\n",
    "\n",
    "Then you can make a list of bullet points:\n",
    "\n",
    "* 1, 2, 3\n",
    "* A, B, C\n",
    "* what about an indented bullet?\n",
    "  + as easy as it gets!\n",
    "\n",
    "1. What if you want numbered lists?\n",
    "2. As easy as this!\n",
    "\n",
    "We can also add images using a few methods as long as the file is in the right path!\n",
    "\n",
    "<img alt=\"alternate text goes here\" src=\"lets-do-this.jpg\" width=\"60%\" />\n",
    "\n",
    "![You can add some alternate text here](doh.jpg)\n",
    "\n",
    "Finally - we can add code chunks like so to have SQL syntax highlighting turned on:\n",
    "\n",
    "```sql\n",
    "SELECT * FROM some_table\n",
    "```\n",
    "\n",
    "Or you can have code in-line like this `SELECT * FROM some_table` but the syntax highlighting won't on for these in-line code snippets.\n",
    "\n",
    "If you want to highlight something you can also use blockquotes:\n",
    "\n",
    "> Something you really want to emphasise\n",
    "\n",
    "You can also do page breaks using three underscores together like below to slightly separate sections of your document\n",
    "\n",
    "---\n",
    "\n",
    "Finally we can also include external links to websites like [https://www.google.com]"
   ]
  },
  {
   "cell_type": "markdown",
   "id": "b6d6abd9",
   "metadata": {},
   "source": [
    "## 2) SELECT, ORDER BY practice"
   ]
  },
  {
   "cell_type": "markdown",
   "id": "e4dc4940",
   "metadata": {},
   "source": [
    "What is the name of the category with the highest category_id in the dvd_rentals.category table?"
   ]
  },
  {
   "cell_type": "code",
   "execution_count": null,
   "id": "18f1aa79",
   "metadata": {},
   "outputs": [],
   "source": [
    "SELECT\n",
    "name,\n",
    "category_id\n",
    "FROM dvd_rentals.category\n",
    "ORDER BY 2 DESC\n",
    "LIMIT 1;"
   ]
  },
  {
   "cell_type": "markdown",
   "id": "bce69872",
   "metadata": {},
   "source": [
    "For the films with the longest length, what is the title of the “R” rated film with the lowest replacement_cost in dvd_rentals.film table?"
   ]
  },
  {
   "cell_type": "code",
   "execution_count": null,
   "id": "d4d9131f",
   "metadata": {},
   "outputs": [],
   "source": [
    "SELECT\n",
    "title,\n",
    "replacement_cost,\n",
    "length,\n",
    "rating\n",
    "FROM dvd_rentals.film\n",
    "ORDER BY 3 DESC,2\n",
    "LIMIT 10;"
   ]
  },
  {
   "cell_type": "markdown",
   "id": "c247c791",
   "metadata": {},
   "source": [
    "Who was the manager of the store with the highest total_sales in the dvd_rentals.sales_by_store table?"
   ]
  },
  {
   "cell_type": "code",
   "execution_count": null,
   "id": "077e4d82",
   "metadata": {},
   "outputs": [],
   "source": [
    "SELECT\n",
    "manager,\n",
    "sales_by_store\n",
    "FROM dvd_rentals.sales_by_store\n",
    "ORDER BY 2 DESC\n",
    "LIMIT 1;"
   ]
  },
  {
   "cell_type": "markdown",
   "id": "187e3276",
   "metadata": {},
   "source": [
    "What is the postal_code of the city with the 5th highest city_id in the dvd_rentals.address table?"
   ]
  },
  {
   "cell_type": "code",
   "execution_count": null,
   "id": "253eb38e",
   "metadata": {},
   "outputs": [],
   "source": [
    "SELECT\n",
    "postal_code,\n",
    "city_id\n",
    "FROM dvd_rentals.address\n",
    "ORDER BY 2 DESC\n",
    "LIMIT 5;"
   ]
  },
  {
   "cell_type": "markdown",
   "id": "671e2a16",
   "metadata": {},
   "source": [
    "## 3) Record Counts & Distinct Values"
   ]
  },
  {
   "cell_type": "markdown",
   "id": "a26c6903",
   "metadata": {},
   "source": [
    "Which actor_id has the most number of unique film_id records in the dvd_rentals.film_actor table?\n"
   ]
  },
  {
   "cell_type": "code",
   "execution_count": null,
   "id": "9bfdfd68",
   "metadata": {},
   "outputs": [],
   "source": [
    "SELECT\n",
    "  actor_id,\n",
    "  COUNT(*) AS frequency\n",
    "FROM dvd_rentals.film_actor\n",
    "GROUP BY actor_id\n",
    "ORDER BY frequency DESC\n",
    "LIMIT 5;"
   ]
  },
  {
   "cell_type": "markdown",
   "id": "c2857344",
   "metadata": {},
   "source": [
    "How many distinct fid values are there for the 3rd most common price value in the dvd_rentals.nicer_but_slower_film_list table?"
   ]
  },
  {
   "cell_type": "code",
   "execution_count": null,
   "id": "937a8cd4",
   "metadata": {},
   "outputs": [],
   "source": [
    "SELECT\n",
    "  price,\n",
    "  COUNT(DISTINCT(fid)) AS frequency\n",
    "FROM dvd_rentals.nicer_but_slower_film_list\n",
    "GROUP BY price\n",
    "ORDER BY frequency DESC\n",
    "LIMIT 5\n",
    "OFFSET 2;"
   ]
  },
  {
   "cell_type": "markdown",
   "id": "bdf1d52f",
   "metadata": {},
   "source": [
    "How many unique country_id values exist in the dvd_rentals.city table?\n"
   ]
  },
  {
   "cell_type": "code",
   "execution_count": null,
   "id": "b65c2db3",
   "metadata": {},
   "outputs": [],
   "source": [
    "SELECT\n",
    "  COUNT(DISTINCT(country_id)) AS unique_country_id\n",
    "FROM dvd_rentals.city\n",
    ";"
   ]
  },
  {
   "cell_type": "markdown",
   "id": "a77c1db0",
   "metadata": {},
   "source": [
    "What percentage of overall total_sales does the Sports category make up in the dvd_rentals.sales_by_film_category table?"
   ]
  },
  {
   "cell_type": "code",
   "execution_count": null,
   "id": "e50a2faf",
   "metadata": {},
   "outputs": [],
   "source": [
    "SELECT \n",
    "category,\n",
    "ROUND(100*total_sales::numeric/SUM(total_sales) OVER (), 2) AS percentage\n",
    "FROM dvd_rentals.sales_by_film_category;"
   ]
  },
  {
   "cell_type": "markdown",
   "id": "d83637a2",
   "metadata": {},
   "source": [
    "What percentage of unique fid values are in the Children category in the dvd_rentals.film_list table?\n"
   ]
  },
  {
   "cell_type": "code",
   "execution_count": null,
   "id": "c06011dc",
   "metadata": {},
   "outputs": [],
   "source": [
    "SELECT \n",
    "  category,\n",
    "  ROUND(100 * COUNT(DISTINCT fid)::NUMERIC/SUM(COUNT(fid)) OVER(), 2) AS percentage\n",
    "FROM dvd_rentals.film_list\n",
    "GROUP BY category;"
   ]
  },
  {
   "cell_type": "markdown",
   "id": "f0e70c03",
   "metadata": {},
   "source": []
  },
  {
   "cell_type": "markdown",
   "id": "4aa61e6d",
   "metadata": {},
   "source": []
  },
  {
   "cell_type": "code",
   "execution_count": null,
   "id": "99170719",
   "metadata": {},
   "outputs": [],
   "source": []
  },
  {
   "cell_type": "markdown",
   "id": "79d3b2de",
   "metadata": {},
   "source": []
  },
  {
   "cell_type": "code",
   "execution_count": null,
   "id": "0d967db5",
   "metadata": {},
   "outputs": [],
   "source": []
  },
  {
   "cell_type": "markdown",
   "id": "3c5e33d7",
   "metadata": {},
   "source": []
  },
  {
   "cell_type": "code",
   "execution_count": null,
   "id": "db9c5bd9",
   "metadata": {},
   "outputs": [],
   "source": []
  },
  {
   "cell_type": "markdown",
   "id": "fdeea3c0",
   "metadata": {},
   "source": []
  },
  {
   "cell_type": "code",
   "execution_count": null,
   "id": "27d9b82c",
   "metadata": {},
   "outputs": [],
   "source": []
  },
  {
   "cell_type": "code",
   "execution_count": null,
   "id": "c4fae860",
   "metadata": {},
   "outputs": [],
   "source": []
  },
  {
   "cell_type": "code",
   "execution_count": null,
   "id": "6be5595f",
   "metadata": {},
   "outputs": [],
   "source": []
  },
  {
   "cell_type": "code",
   "execution_count": null,
   "id": "63ff0f06",
   "metadata": {},
   "outputs": [],
   "source": []
  },
  {
   "cell_type": "code",
   "execution_count": null,
   "id": "7df79d69",
   "metadata": {},
   "outputs": [],
   "source": []
  },
  {
   "cell_type": "code",
   "execution_count": null,
   "id": "6b891b08",
   "metadata": {},
   "outputs": [],
   "source": []
  },
  {
   "cell_type": "code",
   "execution_count": null,
   "id": "f99e6e24",
   "metadata": {},
   "outputs": [],
   "source": []
  }
 ],
 "metadata": {
  "kernelspec": {
   "display_name": "Python 3 (ipykernel)",
   "language": "python",
   "name": "python3"
  },
  "language_info": {
   "codemirror_mode": {
    "name": "ipython",
    "version": 3
   },
   "file_extension": ".py",
   "mimetype": "text/x-python",
   "name": "python",
   "nbconvert_exporter": "python",
   "pygments_lexer": "ipython3",
   "version": "3.8.12"
  }
 },
 "nbformat": 4,
 "nbformat_minor": 5
}
