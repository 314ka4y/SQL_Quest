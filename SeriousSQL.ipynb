{
 "cells": [
  {
   "cell_type": "markdown",
   "id": "b0ca8175",
   "metadata": {},
   "source": [
    "## 1) Markdown practice"
   ]
  },
  {
   "cell_type": "markdown",
   "id": "007118ee",
   "metadata": {},
   "source": [
    "### 2.2.1. This is a level 3 heading\n",
    "\n",
    "There are also single and double hashtag titles for level 1 and 2 - but I wanted to keep my table of contents for this tutorial clean and tidy :)\n",
    "\n",
    "You can also type some text here.\n",
    "\n",
    "This is how you do something in **bold** or _italics_\n",
    "\n",
    "Then you can make a list of bullet points:\n",
    "\n",
    "* 1, 2, 3\n",
    "* A, B, C\n",
    "* what about an indented bullet?\n",
    "  + as easy as it gets!\n",
    "\n",
    "1. What if you want numbered lists?\n",
    "2. As easy as this!\n",
    "\n",
    "We can also add images using a few methods as long as the file is in the right path!\n",
    "\n",
    "<img alt=\"alternate text goes here\" src=\"lets-do-this.jpg\" width=\"60%\" />\n",
    "\n",
    "![You can add some alternate text here](doh.jpg)\n",
    "\n",
    "Finally - we can add code chunks like so to have SQL syntax highlighting turned on:\n",
    "\n",
    "```sql\n",
    "SELECT * FROM some_table\n",
    "```\n",
    "\n",
    "Or you can have code in-line like this `SELECT * FROM some_table` but the syntax highlighting won't on for these in-line code snippets.\n",
    "\n",
    "If you want to highlight something you can also use blockquotes:\n",
    "\n",
    "> Something you really want to emphasise\n",
    "\n",
    "You can also do page breaks using three underscores together like below to slightly separate sections of your document\n",
    "\n",
    "---\n",
    "\n",
    "Finally we can also include external links to websites like [https://www.google.com]"
   ]
  },
  {
   "cell_type": "markdown",
   "id": "7594622e",
   "metadata": {},
   "source": [
    "## 2) SELECT, ORDER BY practice"
   ]
  },
  {
   "cell_type": "markdown",
   "id": "a813c2d6",
   "metadata": {},
   "source": [
    "What is the name of the category with the highest category_id in the dvd_rentals.category table?"
   ]
  },
  {
   "cell_type": "code",
   "execution_count": null,
   "id": "1ac6e093",
   "metadata": {},
   "outputs": [],
   "source": [
    "SELECT\n",
    "name,\n",
    "category_id\n",
    "FROM dvd_rentals.category\n",
    "ORDER BY 2 DESC\n",
    "LIMIT 1;"
   ]
  },
  {
   "cell_type": "markdown",
   "id": "4c8f6719",
   "metadata": {},
   "source": [
    "For the films with the longest length, what is the title of the “R” rated film with the lowest replacement_cost in dvd_rentals.film table?"
   ]
  },
  {
   "cell_type": "code",
   "execution_count": null,
   "id": "587e06dc",
   "metadata": {},
   "outputs": [],
   "source": [
    "SELECT\n",
    "title,\n",
    "replacement_cost,\n",
    "length,\n",
    "rating\n",
    "FROM dvd_rentals.film\n",
    "ORDER BY 3 DESC,2\n",
    "LIMIT 10;"
   ]
  },
  {
   "cell_type": "markdown",
   "id": "f156e28a",
   "metadata": {},
   "source": [
    "Who was the manager of the store with the highest total_sales in the dvd_rentals.sales_by_store table?"
   ]
  },
  {
   "cell_type": "code",
   "execution_count": null,
   "id": "8ecfbfe8",
   "metadata": {},
   "outputs": [],
   "source": [
    "SELECT\n",
    "manager,\n",
    "sales_by_store\n",
    "FROM dvd_rentals.sales_by_store\n",
    "ORDER BY 2 DESC\n",
    "LIMIT 1;"
   ]
  },
  {
   "cell_type": "markdown",
   "id": "9b7ef7ec",
   "metadata": {},
   "source": [
    "What is the postal_code of the city with the 5th highest city_id in the dvd_rentals.address table?"
   ]
  },
  {
   "cell_type": "code",
   "execution_count": null,
   "id": "2a8c2ce2",
   "metadata": {},
   "outputs": [],
   "source": [
    "SELECT\n",
    "postal_code,\n",
    "city_id\n",
    "FROM dvd_rentals.address\n",
    "ORDER BY 2 DESC\n",
    "LIMIT 5;"
   ]
  },
  {
   "cell_type": "markdown",
   "id": "71f1932e",
   "metadata": {},
   "source": [
    "## 3) Record Counts & Distinct Values"
   ]
  },
  {
   "cell_type": "markdown",
   "id": "5b6302e1",
   "metadata": {},
   "source": [
    "Which actor_id has the most number of unique film_id records in the dvd_rentals.film_actor table?\n"
   ]
  },
  {
   "cell_type": "code",
   "execution_count": null,
   "id": "85626449",
   "metadata": {},
   "outputs": [],
   "source": [
    "SELECT\n",
    "  actor_id,\n",
    "  COUNT(*) AS frequency\n",
    "FROM dvd_rentals.film_actor\n",
    "GROUP BY actor_id\n",
    "ORDER BY frequency DESC\n",
    "LIMIT 5;"
   ]
  },
  {
   "cell_type": "markdown",
   "id": "cb9d13b1",
   "metadata": {},
   "source": [
    "How many distinct fid values are there for the 3rd most common price value in the dvd_rentals.nicer_but_slower_film_list table?"
   ]
  },
  {
   "cell_type": "code",
   "execution_count": null,
   "id": "a431a27f",
   "metadata": {},
   "outputs": [],
   "source": [
    "SELECT\n",
    "  price,\n",
    "  COUNT(DISTINCT(fid)) AS frequency\n",
    "FROM dvd_rentals.nicer_but_slower_film_list\n",
    "GROUP BY price\n",
    "ORDER BY frequency DESC\n",
    "LIMIT 5\n",
    "OFFSET 2;"
   ]
  },
  {
   "cell_type": "markdown",
   "id": "8f1afe0e",
   "metadata": {},
   "source": [
    "How many unique country_id values exist in the dvd_rentals.city table?\n"
   ]
  },
  {
   "cell_type": "code",
   "execution_count": null,
   "id": "06ae3c8b",
   "metadata": {},
   "outputs": [],
   "source": [
    "SELECT\n",
    "  COUNT(DISTINCT(country_id)) AS unique_country_id\n",
    "FROM dvd_rentals.city\n",
    ";"
   ]
  },
  {
   "cell_type": "markdown",
   "id": "9c6569ba",
   "metadata": {},
   "source": [
    "What percentage of overall total_sales does the Sports category make up in the dvd_rentals.sales_by_film_category table?"
   ]
  },
  {
   "cell_type": "code",
   "execution_count": null,
   "id": "22e1455d",
   "metadata": {},
   "outputs": [],
   "source": [
    "SELECT \n",
    "category,\n",
    "ROUND(100*total_sales::numeric/SUM(total_sales) OVER (), 2) AS percentage\n",
    "FROM dvd_rentals.sales_by_film_category;"
   ]
  },
  {
   "cell_type": "markdown",
   "id": "83f006cf",
   "metadata": {},
   "source": [
    "What percentage of unique fid values are in the Children category in the dvd_rentals.film_list table?\n"
   ]
  },
  {
   "cell_type": "code",
   "execution_count": null,
   "id": "b54749de",
   "metadata": {},
   "outputs": [],
   "source": [
    "SELECT \n",
    "  category,\n",
    "  ROUND(100 * COUNT(DISTINCT fid)::NUMERIC/SUM(COUNT(fid)) OVER(), 2) AS percentage\n",
    "FROM dvd_rentals.film_list\n",
    "GROUP BY category;"
   ]
  },
  {
   "cell_type": "markdown",
   "id": "8c6794a9",
   "metadata": {},
   "source": [
    "### 4) Identifying Duplicate Data\n"
   ]
  },
  {
   "cell_type": "markdown",
   "id": "5927d7d7",
   "metadata": {},
   "source": [
    "Which id value has the most number of duplicate records in the health.user_logs table?"
   ]
  },
  {
   "cell_type": "code",
   "execution_count": null,
   "id": "2b3e4559",
   "metadata": {},
   "outputs": [],
   "source": [
    "WITH Freq_count AS (\n",
    "SELECT \n",
    " id,\n",
    " log_date,\n",
    " measure,\n",
    " measure_value,\n",
    " systolic,\n",
    " diastolic,\n",
    " COUNT (*) AS freq\n",
    "FROM health.user_logs\n",
    "GROUP BY \n",
    " id,\n",
    " log_date,\n",
    " measure,\n",
    " measure_value,\n",
    " systolic,\n",
    " diastolic\n",
    ")\n",
    "SELECT \n",
    " id,\n",
    " SUM(freq) AS numer_of_dublicates\n",
    "FROM Freq_count\n",
    "WHERE freq > 1\n",
    "GROUP BY \n",
    " id\n",
    "ORDER BY numer_of_dublicates DESC\n",
    "LIMIT 10;"
   ]
  },
  {
   "cell_type": "markdown",
   "id": "09b518b2",
   "metadata": {},
   "source": [
    "Which log_date value had the most duplicate records after removing the max duplicate id value from question 1?"
   ]
  },
  {
   "cell_type": "code",
   "execution_count": null,
   "id": "4407918e",
   "metadata": {},
   "outputs": [],
   "source": [
    "WITH Freq_count AS (\n",
    "SELECT \n",
    "    id,\n",
    "    log_date,\n",
    "    measure,\n",
    "    measure_value,\n",
    "    systolic,\n",
    "    diastolic,\n",
    "    COUNT (*) AS freq\n",
    "FROM health.user_logs\n",
    "WHERE id != '054250c692e07a9fa9e62e345231df4b54ff435d'\n",
    "GROUP BY \n",
    "    id,\n",
    "    log_date,\n",
    "    measure,\n",
    "    measure_value,\n",
    "    systolic,\n",
    "    diastolic\n",
    ")\n",
    "SELECT \n",
    "    log_date,\n",
    "    SUM(freq) AS numer_of_dublicates\n",
    "FROM Freq_count\n",
    "WHERE freq > 1\n",
    "GROUP BY \n",
    "    log_date\n",
    "ORDER BY numer_of_dublicates DESC\n",
    "LIMIT 10;"
   ]
  },
  {
   "cell_type": "markdown",
   "id": "e77abaf1",
   "metadata": {},
   "source": [
    "Which measure_value had the most occurences in the health.user_logs value when measure = 'weight'?"
   ]
  },
  {
   "cell_type": "code",
   "execution_count": null,
   "id": "d2804a24",
   "metadata": {},
   "outputs": [],
   "source": [
    "SELECT \n",
    "    measure_value,\n",
    "    COUNT(measure_value) AS numer_of_instances\n",
    "FROM health.user_logs\n",
    "WHERE measure = 'weight'\n",
    "GROUP BY measure_value\n",
    "ORDER BY numer_of_instances DESC\n",
    "LIMIT 10;"
   ]
  },
  {
   "cell_type": "markdown",
   "id": "024f4405",
   "metadata": {},
   "source": [
    "How many single duplicated rows exist when measure = 'blood_pressure' in the health.user_logs? How about the total number of duplicate records in the same table?"
   ]
  },
  {
   "cell_type": "code",
   "execution_count": null,
   "id": "951736f0",
   "metadata": {},
   "outputs": [],
   "source": [
    "WITH health_data AS( \n",
    "SELECT \n",
    "    id, \n",
    "    log_date, \n",
    "    measure, \n",
    "    measure_value, \n",
    "    systolic, \n",
    "    diastolic, \n",
    "    COUNT(*) AS frequency \n",
    "FROM health.user_logs \n",
    "WHERE measure = 'blood_pressure' \n",
    "GROUP BY \n",
    "    id, \n",
    "    log_date, \n",
    "    measure, \n",
    "    measure_value, \n",
    "    systolic, \n",
    "    diastolic\n",
    "HAVING COUNT(*) > 1\n",
    ") \n",
    "SELECT \n",
    "    COUNT (frequency) AS Single_dublicated_records,\n",
    "    SUM (frequency) AS Total_record_number\n",
    "FROM health_data"
   ]
  },
  {
   "cell_type": "markdown",
   "id": "8804156e",
   "metadata": {},
   "source": [
    "What percentage of records measure_value = 0 when measure = 'blood_pressure' in the health.user_logs table? How many records are there also for this same condition?"
   ]
  },
  {
   "cell_type": "code",
   "execution_count": null,
   "id": "3a4186a9",
   "metadata": {},
   "outputs": [],
   "source": [
    "WITH health_data AS (\n",
    "SELECT \n",
    "measure_value,\n",
    "COUNT(measure_value) AS number_of_records,\n",
    "SUM(COUNT(measure_value)) OVER () AS Total_records\n",
    "FROM health.user_logs\n",
    "WHERE measure = 'blood_pressure'\n",
    "GROUP BY measure_value\n",
    ")\n",
    "SELECT \n",
    "*,\n",
    "ROUND(100* number_of_records::NUMERIC/total_records, 2) AS percentage\n",
    "FROM health_data\n",
    "WHERE measure_value = 0\n"
   ]
  },
  {
   "cell_type": "markdown",
   "id": "f494dce7",
   "metadata": {},
   "source": [
    "What percentage of records measure_value = 0 when measure = 'blood_pressure' in the health.user_logs table? How many records are there also for this same condition?"
   ]
  },
  {
   "cell_type": "code",
   "execution_count": null,
   "id": "b836e3d2",
   "metadata": {},
   "outputs": [],
   "source": [
    "WITH groupby_counts AS (\n",
    "  SELECT\n",
    "    id,\n",
    "    log_date,\n",
    "    measure,\n",
    "    measure_value,\n",
    "    systolic,\n",
    "    diastolic,\n",
    "    COUNT(*) AS frequency\n",
    "  FROM\n",
    "    health.user_logs\n",
    "  GROUP BY\n",
    "    id,\n",
    "    log_date,\n",
    "    measure,\n",
    "    measure_value,\n",
    "    systolic,\n",
    "    diastolic\n",
    ")\n",
    "SELECT\n",
    "  ROUND(\n",
    "    100 * SUM(\n",
    "      CASE\n",
    "        WHEN frequency > 1 THEN frequency - 1\n",
    "        ELSE 0\n",
    "      END\n",
    "    ) :: NUMERIC / SUM(frequency),\n",
    "    2\n",
    "  ) AS duplicate_percentage\n",
    "FROM\n",
    "  groupby_counts;"
   ]
  },
  {
   "cell_type": "markdown",
   "id": "6e0602b3",
   "metadata": {},
   "source": [
    "### 4) Descriptive statistics "
   ]
  },
  {
   "cell_type": "markdown",
   "id": "107d0bea",
   "metadata": {},
   "source": [
    "Ok - let’s try calculating all of the statistics we’ve covered so far on our real dataset to see what we can find out about our values."
   ]
  },
  {
   "cell_type": "code",
   "execution_count": 1,
   "id": "42dca655",
   "metadata": {},
   "outputs": [
    {
     "ename": "SyntaxError",
     "evalue": "invalid syntax (1209565813.py, line 2)",
     "output_type": "error",
     "traceback": [
      "\u001b[0;36m  File \u001b[0;32m\"/var/folders/bg/b5dfn0gj1lz88k7ms283yrlm0000gn/T/ipykernel_5591/1209565813.py\"\u001b[0;36m, line \u001b[0;32m2\u001b[0m\n\u001b[0;31m    'weight' AS measure,\u001b[0m\n\u001b[0m             ^\u001b[0m\n\u001b[0;31mSyntaxError\u001b[0m\u001b[0;31m:\u001b[0m invalid syntax\n"
     ]
    }
   ],
   "source": [
    "SELECT\n",
    "'weight' AS measure,\n",
    "ROUND(MIN(measure_value), 2) AS minimum,\n",
    "ROUND(MAX(measure_value), 2) AS maximum,\n",
    "ROUND(AVG(measure_value), 2) AS mean,\n",
    "ROUND(CAST(PERCENTILE_CONT(0.5) WITHIN GROUP (ORDER BY measure_value) AS NUMERIC), 2) AS median, \n",
    "ROUND(MODE() WITHIN GROUP (ORDER BY measure_value), 2) AS mode,\n",
    "ROUND(VARIANCE(measure_value), 2) AS variance,\n",
    "ROUND(STDDEV(measure_value), 2) AS Standard_deviation\n",
    "\n",
    "FROM health.user_logs\n",
    "WHERE measure = 'weight'"
   ]
  },
  {
   "cell_type": "markdown",
   "id": "20710955",
   "metadata": {},
   "source": [
    "What is the average, median and mode values of blood glucose values to 2 decimal places?"
   ]
  },
  {
   "cell_type": "code",
   "execution_count": null,
   "id": "6d5f76da",
   "metadata": {},
   "outputs": [],
   "source": [
    "SELECT\n",
    "  'blood glucose' AS measure,\n",
    "  ROUND(AVG(measure_value), 2) AS mean,\n",
    "  ROUND(\n",
    "    CAST(\n",
    "      PERCENTILE_CONT(0.5) WITHIN GROUP (\n",
    "        ORDER BY\n",
    "          measure_value\n",
    "      ) AS NUMERIC\n",
    "    ),\n",
    "    2\n",
    "  ) AS median,\n",
    "  ROUND(\n",
    "    MODE() WITHIN GROUP (\n",
    "      ORDER BY\n",
    "        measure_value\n",
    "    ),\n",
    "    2\n",
    "  ) AS mode\n",
    "FROM\n",
    "  health.user_logs\n",
    "WHERE\n",
    "  measure = 'blood_glucose';"
   ]
  },
  {
   "cell_type": "markdown",
   "id": "f9ffe287",
   "metadata": {},
   "source": [
    "What is the most frequently occuring measure_value value for all blood glucose measurements?"
   ]
  },
  {
   "cell_type": "code",
   "execution_count": null,
   "id": "2d3102a4",
   "metadata": {},
   "outputs": [],
   "source": [
    "SELECT\n",
    "  measure_value,\n",
    "  COUNT(*) AS frequency\n",
    "FROM\n",
    "  health.user_logs\n",
    "WHERE\n",
    "  measure = 'blood_glucose'\n",
    "GROUP BY\n",
    "  measure_value\n",
    "ORDER BY\n",
    "  frequency DESC\n",
    "LIMIT\n",
    "  10;"
   ]
  },
  {
   "cell_type": "markdown",
   "id": "e586d771",
   "metadata": {},
   "source": [
    "Calculate the 2 Pearson Coefficient of Skewness for blood glucose measures given the following formulas:"
   ]
  },
  {
   "cell_type": "code",
   "execution_count": null,
   "id": "b6a048d2",
   "metadata": {},
   "outputs": [],
   "source": [
    "WITH data_preprocess AS (\n",
    "  SELECT\n",
    "    'blood glucose' AS measure,\n",
    "    ROUND(AVG(measure_value), 2) AS mean,\n",
    "    ROUND(\n",
    "      CAST(\n",
    "        PERCENTILE_CONT(0.5) WITHIN GROUP (\n",
    "          ORDER BY\n",
    "            measure_value\n",
    "        ) AS NUMERIC\n",
    "      ),\n",
    "      2\n",
    "    ) AS median,\n",
    "    ROUND(\n",
    "      MODE() WITHIN GROUP (\n",
    "        ORDER BY\n",
    "          measure_value\n",
    "      ),\n",
    "      2\n",
    "    ) AS mode,\n",
    "    ROUND(STDDEV(measure_value), 2) AS Standard_deviation\n",
    "  FROM\n",
    "    health.user_logs\n",
    "  WHERE\n",
    "    measure = 'blood_glucose'\n",
    ")\n",
    "SELECT\n",
    "  measure,\n",
    "  ROUND((mean - mode) / Standard_deviation, 4) AS Coefficient1,\n",
    "  ROUND(3* (mean - median)/ Standard_deviation, 4) AS Coefficient2\n",
    "FROM\n",
    "  data_preprocess"
   ]
  },
  {
   "cell_type": "markdown",
   "id": "a3a85211",
   "metadata": {},
   "source": [
    "Check each value position in percentile"
   ]
  },
  {
   "cell_type": "code",
   "execution_count": null,
   "id": "ed40861a",
   "metadata": {},
   "outputs": [],
   "source": [
    "WITH Percentile_values AS(\n",
    "  SELECT\n",
    "    measure_value,\n",
    "    NTILE(100) OVER (\n",
    "      ORDER BY\n",
    "        measure_value\n",
    "    ) AS percentile\n",
    "  FROM\n",
    "    health.user_logs\n",
    "  WHERE\n",
    "    measure = 'weight'\n",
    "    AND measure_value > 0\n",
    "    AND measure_value < 201\n",
    ")\n",
    "SELECT\n",
    "  measure_value,\n",
    "  ROW_NUMBER() OVER (\n",
    "    ORDER BY\n",
    "      measure_value\n",
    "  ) as row_number_order,\n",
    "  RANK() OVER (\n",
    "    ORDER BY\n",
    "      measure_value\n",
    "  ) as rank_order,\n",
    "  DENSE_RANK() OVER (\n",
    "    ORDER BY\n",
    "      measure_value\n",
    "  ) as dense_rank_order,\n",
    "  percentile\n",
    "FROM\n",
    "  Percentile_values\n",
    "WHERE\n",
    "  percentile = 1\n",
    "ORDER BY\n",
    "  percentile"
   ]
  },
  {
   "cell_type": "markdown",
   "id": "d9eefe79",
   "metadata": {},
   "source": [
    "Clean Percentile calculations"
   ]
  },
  {
   "cell_type": "code",
   "execution_count": null,
   "id": "72329ca7",
   "metadata": {},
   "outputs": [],
   "source": [
    "DROP TABLE IF EXISTS clean_weight_logs;\n",
    "CREATE TEMP TABLE clean_weight_logs AS (\n",
    "  SELECT *\n",
    "  FROM health.user_logs\n",
    "  WHERE measure = 'weight'\n",
    "    AND measure_value > 0\n",
    "    AND measure_value < 201\n",
    ");\n",
    "SELECT\n",
    "  ROUND(MIN(measure_value), 2) AS minimum_value,\n",
    "  ROUND(MAX(measure_value), 2) AS maximum_value,\n",
    "  ROUND(AVG(measure_value), 2) AS mean_value,\n",
    "  ROUND(\n",
    "    -- this function actually returns a float which is incompatible with ROUND!\n",
    "    -- we use this cast function to convert the output type to NUMERIC\n",
    "    CAST(PERCENTILE_CONT(0.5) WITHIN GROUP (ORDER BY measure_value) AS NUMERIC),\n",
    "    2\n",
    "  ) AS median_value,\n",
    "  ROUND(\n",
    "    MODE() WITHIN GROUP (ORDER BY measure_value),\n",
    "    2\n",
    "  ) AS mode_value,\n",
    "  ROUND(STDDEV(measure_value), 2) AS standard_deviation,\n",
    "  ROUND(VARIANCE(measure_value), 2) AS variance_value\n",
    "FROM clean_weight_logs;\n",
    "\n",
    "WITH percentile_values AS (\n",
    "  SELECT\n",
    "    measure_value,\n",
    "    NTILE(100) OVER (\n",
    "      ORDER BY\n",
    "        measure_value\n",
    "    ) AS percentile\n",
    "  FROM clean_weight_logs\n",
    ")\n",
    "SELECT\n",
    "  percentile,\n",
    "  MIN(measure_value) AS floor_value,\n",
    "  MAX(measure_value) AS ceiling_value,\n",
    "  COUNT(*) AS percentile_counts\n",
    "FROM percentile_values\n",
    "GROUP BY percentile\n",
    "ORDER BY percentile;"
   ]
  },
  {
   "cell_type": "markdown",
   "id": "a9ad0594",
   "metadata": {},
   "source": [
    "We’ve just received an urgent request from the General Manager of Analytics at Health Co requesting our assistance with their analysis of the health.user_logs dataset.\n",
    "\n",
    "The Health Co analytics team have shared with us their SQL script - they unfortunately ran into a few bugs that they couldn’t fix!\n",
    "\n",
    "We’ve been asked to quickly debug their SQL script and use the resulting query outputs to quickly answer a few questions that the GM has requested for a board meeting about their active users."
   ]
  },
  {
   "cell_type": "code",
   "execution_count": null,
   "id": "1e3d42a7",
   "metadata": {},
   "outputs": [],
   "source": [
    "-- 1. How many unique users exist in the logs dataset?\n",
    "SELECT\n",
    "  COUNT(DISTINCT id)\n",
    "FROM health.user_logs;\n",
    "\n",
    "\n",
    "-- for questions 2-8 we created a temporary table\n",
    "DROP TABLE IF EXISTS user_measure_count;\n",
    "CREATE TEMP TABLE user_measure_count AS(\n",
    "SELECT\n",
    "    id,\n",
    "    COUNT(*) AS measure_count,\n",
    "    COUNT(DISTINCT measure) as unique_measures\n",
    "  FROM health.user_logs\n",
    "  GROUP BY 1); \n",
    "\n",
    "\n",
    "-- 2. How many total measurements do we have per user on average?\n",
    "SELECT\n",
    "  ROUND(AVG(measure_count), 2)\n",
    "FROM user_measure_count;\n",
    "\n",
    "-- 3. What about the median number of measurements per user?\n",
    "SELECT\n",
    "  ROUND(CAST(PERCENTILE_CONT(0.5) WITHIN GROUP (ORDER BY measure_count) AS NUMERIC), 2) AS median\n",
    "FROM user_measure_count;\n",
    "\n",
    "-- 4. How many users have 3 or more measurements?\n",
    "SELECT\n",
    "  COUNT(*)\n",
    "FROM user_measure_count\n",
    "WHERE measure_count >= 3;\n",
    "\n",
    "-- 5. How many users have 1,000 or more measurements?\n",
    "SELECT\n",
    "  COUNT(*)\n",
    "FROM user_measure_count\n",
    "WHERE measure_count >= 1000;\n",
    "\n",
    "-- 6. Have logged blood glucose measurements?\n",
    "SELECT\n",
    "  DISTINCT measure\n",
    "FROM health.user_logs;\n",
    "\n",
    "SELECT\n",
    "  measure_value\n",
    "FROM health.user_logs\n",
    "WHERE measure = 'blood_glucose'\n",
    "LIMIT 10;\n",
    "\n",
    "\n",
    "-- 7. Have at least 2 types of measurements?\n",
    "SELECT\n",
    "  COUNT(*)\n",
    "FROM user_measure_count\n",
    "WHERE unique_measures >= 2;\n",
    "\n",
    "-- 8. Have all 3 measures - blood glucose, weight and blood pressure?\n",
    "SELECT\n",
    "  COUNT(*)\n",
    "FROM user_measure_count\n",
    "WHERE unique_measures = 3;\n",
    "\n",
    "-- 9.  What is the median systolic/diastolic blood pressure values?\n",
    "SELECT\n",
    "  PERCENTILE_CONT(0.5) WITHIN GROUP (ORDER BY systolic) AS median_systolic,\n",
    "  PERCENTILE_CONT(0.5) WITHIN GROUP (ORDER BY diastolic) AS median_diastolic\n",
    "FROM health.user_logs\n",
    "WHERE measure = 'blood_pressure';\n"
   ]
  },
  {
   "cell_type": "code",
   "execution_count": null,
   "id": "9f8c9443",
   "metadata": {},
   "outputs": [],
   "source": []
  },
  {
   "cell_type": "code",
   "execution_count": null,
   "id": "a3a65533",
   "metadata": {},
   "outputs": [],
   "source": []
  },
  {
   "cell_type": "code",
   "execution_count": null,
   "id": "844c95a9",
   "metadata": {},
   "outputs": [],
   "source": []
  }
 ],
 "metadata": {
  "kernelspec": {
   "display_name": "Python 3 (ipykernel)",
   "language": "python",
   "name": "python3"
  },
  "language_info": {
   "codemirror_mode": {
    "name": "ipython",
    "version": 3
   },
   "file_extension": ".py",
   "mimetype": "text/x-python",
   "name": "python",
   "nbconvert_exporter": "python",
   "pygments_lexer": "ipython3",
   "version": "3.8.12"
  }
 },
 "nbformat": 4,
 "nbformat_minor": 5
}
